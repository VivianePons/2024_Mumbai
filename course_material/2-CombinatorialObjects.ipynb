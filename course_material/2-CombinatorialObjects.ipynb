{
 "cells": [
  {
   "cell_type": "markdown",
   "id": "7c37dc3f-015c-4c53-9527-c3092e173478",
   "metadata": {},
   "source": [
    "# Combinatorial objects in Sage\n",
    "\n",
    "## what's an object anyway?\n",
    "\n",
    "An object is a data structure that contains: \n",
    "* fields (intern variables)\n",
    "* methods (function that can be applied to said structure)\n",
    "\n",
    "The structure is defined in the object *class*. We say that an object is an instance of a class.\n",
    "\n",
    "you can access all these intern properties with the dot notation"
   ]
  },
  {
   "cell_type": "code",
   "execution_count": 1,
   "id": "981d1b14-bbd3-427b-a291-86207f7f6fd1",
   "metadata": {},
   "outputs": [],
   "source": [
    "dw = DyckWord([1,0,1,0]) # I create an object"
   ]
  },
  {
   "cell_type": "code",
   "execution_count": 2,
   "id": "846f0f6d-dc60-4dae-ab41-fd87a088a10d",
   "metadata": {},
   "outputs": [
    {
     "data": {
      "text/plain": [
       "[0, 0]"
      ]
     },
     "execution_count": 2,
     "metadata": {},
     "output_type": "execute_result"
    }
   ],
   "source": [
    "dw.to_area_sequence() # I call a method"
   ]
  },
  {
   "cell_type": "code",
   "execution_count": 3,
   "id": "bd65426e-2ded-44c2-b10f-8f7d2413a951",
   "metadata": {},
   "outputs": [
    {
     "data": {
      "text/plain": [
       "<class 'sage.combinat.dyck_word.CompleteDyckWords_all_with_category.element_class'>"
      ]
     },
     "execution_count": 3,
     "metadata": {},
     "output_type": "execute_result"
    }
   ],
   "source": [
    "dw.__class__"
   ]
  },
  {
   "cell_type": "code",
   "execution_count": 4,
   "id": "d5f289e8-6b4d-48b4-9ecd-40d35dae57ca",
   "metadata": {},
   "outputs": [
    {
     "data": {
      "text/plain": [
       "<bound method DyckWord.to_area_sequence of [1, 0, 1, 0]>"
      ]
     },
     "execution_count": 4,
     "metadata": {},
     "output_type": "execute_result"
    }
   ],
   "source": [
    "dw.to_area_sequence"
   ]
  },
  {
   "cell_type": "markdown",
   "id": "cd9b2c04-5801-489b-8ba1-288fffa85155",
   "metadata": {},
   "source": [
    "Here is a small example of a python class and creation of an instance"
   ]
  },
  {
   "cell_type": "code",
   "execution_count": 5,
   "id": "6189b8fa-934d-442d-b7e7-a1e490bc97ea",
   "metadata": {},
   "outputs": [],
   "source": [
    "class myCat():\n",
    "\n",
    "    def __init__(self, name):\n",
    "        self._name = name\n",
    "        self._happy = True\n",
    "\n",
    "    def name(self):\n",
    "        return self._name\n",
    "\n",
    "    def __repr__(self):\n",
    "        return \"A cat named \" + self._name\n",
    "\n",
    "    def is_happy(self):\n",
    "        return self._happy\n",
    "\n",
    "    def splash_water(self):\n",
    "        self._happy = False"
   ]
  },
  {
   "cell_type": "code",
   "execution_count": 6,
   "id": "8b59faff-717f-4544-83f6-63c6bcb4e6d3",
   "metadata": {},
   "outputs": [
    {
     "data": {
      "text/plain": [
       "A cat named Garfield"
      ]
     },
     "execution_count": 6,
     "metadata": {},
     "output_type": "execute_result"
    }
   ],
   "source": [
    "garfield = myCat(\"Garfield\")\n",
    "garfield"
   ]
  },
  {
   "cell_type": "code",
   "execution_count": 7,
   "id": "ae4a0733-586d-4490-aadf-56f34f50bddd",
   "metadata": {},
   "outputs": [
    {
     "data": {
      "text/plain": [
       "True"
      ]
     },
     "execution_count": 7,
     "metadata": {},
     "output_type": "execute_result"
    }
   ],
   "source": [
    "garfield.is_happy()"
   ]
  },
  {
   "cell_type": "code",
   "execution_count": 8,
   "id": "7c0a27fd-78f5-4f92-96b2-ce9fc016484e",
   "metadata": {},
   "outputs": [
    {
     "data": {
      "text/plain": [
       "'Garfield'"
      ]
     },
     "execution_count": 8,
     "metadata": {},
     "output_type": "execute_result"
    }
   ],
   "source": [
    "garfield.name()"
   ]
  },
  {
   "cell_type": "code",
   "execution_count": 9,
   "id": "18bc69ed-0aea-4acc-bf74-991a1b669ea5",
   "metadata": {},
   "outputs": [],
   "source": [
    "garfield.splash_water()"
   ]
  },
  {
   "cell_type": "code",
   "execution_count": 10,
   "id": "98420c92-9ed5-432b-882b-29c6897b92a2",
   "metadata": {},
   "outputs": [
    {
     "data": {
      "text/plain": [
       "False"
      ]
     },
     "execution_count": 10,
     "metadata": {},
     "output_type": "execute_result"
    }
   ],
   "source": [
    "garfield.is_happy()"
   ]
  },
  {
   "cell_type": "markdown",
   "id": "f7d49729-5610-46cf-b634-88cc10e0ec95",
   "metadata": {},
   "source": [
    "In python *everything* is an object and, most of the time, you can access all the internal structure (which might be a good thing or not)"
   ]
  },
  {
   "cell_type": "code",
   "execution_count": 11,
   "id": "96e738ad-5090-496e-8d47-6f4b879e4d24",
   "metadata": {},
   "outputs": [],
   "source": [
    "garfield._happy = True"
   ]
  },
  {
   "cell_type": "code",
   "execution_count": 12,
   "id": "f60dc341-4c12-472b-bad2-b88e7c479073",
   "metadata": {},
   "outputs": [
    {
     "data": {
      "text/plain": [
       "True"
      ]
     },
     "execution_count": 12,
     "metadata": {},
     "output_type": "execute_result"
    }
   ],
   "source": [
    "garfield.is_happy()"
   ]
  },
  {
   "cell_type": "markdown",
   "id": "1a554f9f-1dc7-4682-8ba8-cd4b89875687",
   "metadata": {},
   "source": [
    "The internal structure of most sage objects is actually quite complicated. But, *most of the time*, you won't have to go into the technichals. You can just *use* the objects \n",
    "\n",
    "**Something important**\n",
    "\n",
    "In python (and so in Sage), objects are manipulated through *references*. A \"variable\" is just a label attached to an actual instance of an object. If I attach twice the same object to two different variables, both variables can change my object"
   ]
  },
  {
   "cell_type": "code",
   "execution_count": 13,
   "id": "4b7de88b-6dc0-4771-9a94-3730a20d36ab",
   "metadata": {},
   "outputs": [],
   "source": [
    "garfield = myCat(\"Garfield\") # this is a new instance, the previous instance is lost\n",
    "garfield2 = garfield # a second label attached to the **same** object"
   ]
  },
  {
   "cell_type": "code",
   "execution_count": 14,
   "id": "fbb4f7eb-817e-4436-afa3-6aa7218d7337",
   "metadata": {},
   "outputs": [
    {
     "data": {
      "text/plain": [
       "True"
      ]
     },
     "execution_count": 14,
     "metadata": {},
     "output_type": "execute_result"
    }
   ],
   "source": [
    "garfield.is_happy()"
   ]
  },
  {
   "cell_type": "code",
   "execution_count": 15,
   "id": "c8e40f7c-c7b8-415f-8e68-3492d76867cb",
   "metadata": {},
   "outputs": [
    {
     "data": {
      "text/plain": [
       "True"
      ]
     },
     "execution_count": 15,
     "metadata": {},
     "output_type": "execute_result"
    }
   ],
   "source": [
    "garfield2.is_happy()"
   ]
  },
  {
   "cell_type": "code",
   "execution_count": 16,
   "id": "55d00c0c-59a2-437c-9ab8-f7eb282fa7d7",
   "metadata": {},
   "outputs": [],
   "source": [
    "garfield.splash_water()"
   ]
  },
  {
   "cell_type": "code",
   "execution_count": 17,
   "id": "673a9fc6-2829-4ef0-8d21-1b7686559f0e",
   "metadata": {},
   "outputs": [
    {
     "data": {
      "text/plain": [
       "False"
      ]
     },
     "execution_count": 17,
     "metadata": {},
     "output_type": "execute_result"
    }
   ],
   "source": [
    "garfield.is_happy()"
   ]
  },
  {
   "cell_type": "code",
   "execution_count": 18,
   "id": "8bbd235c-4405-40af-adde-dd96263d3524",
   "metadata": {},
   "outputs": [
    {
     "data": {
      "text/plain": [
       "False"
      ]
     },
     "execution_count": 18,
     "metadata": {},
     "output_type": "execute_result"
    }
   ],
   "source": [
    "garfield2.is_happy()"
   ]
  },
  {
   "cell_type": "markdown",
   "id": "138b1f95-d71a-44b7-a758-f552d5e5d171",
   "metadata": {},
   "source": [
    "[More on this subject](https://doc.sagemath.org/html/en/thematic_tutorials/tutorial-objects-and-classes.html)"
   ]
  },
  {
   "cell_type": "markdown",
   "id": "3b30c36a-2a95-4995-95e0-25bf81954722",
   "metadata": {},
   "source": [
    "## Objects for sets of objects\n",
    "\n",
    "In combinatorics, we often have to manipulate sets of objects. These sets are even sometimes infinite. In general, we will have one class corresponding to the set itself called the *parent* and one class for the *elements* of the set. These are two different classes!\n",
    "\n",
    "Examples:"
   ]
  },
  {
   "cell_type": "code",
   "execution_count": 19,
   "id": "77fe447f-4b77-43b1-a331-ad34ad4735bc",
   "metadata": {},
   "outputs": [
    {
     "data": {
      "text/plain": [
       "Subsets of {1, 2, 3}"
      ]
     },
     "execution_count": 19,
     "metadata": {},
     "output_type": "execute_result"
    }
   ],
   "source": [
    "# the parent\n",
    "S3 = Subsets([1,2,3])\n",
    "S3"
   ]
  },
  {
   "cell_type": "code",
   "execution_count": 20,
   "id": "9a2e06ff-d75f-4a4d-8396-77090c93dbc9",
   "metadata": {},
   "outputs": [
    {
     "data": {
      "text/plain": [
       "<class 'sage.combinat.subset.Subsets_s_with_category'>"
      ]
     },
     "execution_count": 20,
     "metadata": {},
     "output_type": "execute_result"
    }
   ],
   "source": [
    "type(S3)"
   ]
  },
  {
   "cell_type": "code",
   "execution_count": 21,
   "id": "020afa41-b4d6-4beb-ab06-1632a74f5e43",
   "metadata": {},
   "outputs": [
    {
     "data": {
      "text/plain": [
       "8"
      ]
     },
     "execution_count": 21,
     "metadata": {},
     "output_type": "execute_result"
    }
   ],
   "source": [
    "S3.cardinality()"
   ]
  },
  {
   "cell_type": "code",
   "execution_count": 23,
   "id": "89d6680a-d20e-4b90-8924-55f4f776cb55",
   "metadata": {},
   "outputs": [
    {
     "data": {
      "text/plain": [
       "{1, 2}"
      ]
     },
     "execution_count": 23,
     "metadata": {},
     "output_type": "execute_result"
    }
   ],
   "source": [
    "S3.an_element() # an example of an element (always the same)"
   ]
  },
  {
   "cell_type": "code",
   "execution_count": 27,
   "id": "b8b5aefe-17cb-4c7f-8866-116c288a9e6f",
   "metadata": {},
   "outputs": [
    {
     "data": {
      "text/plain": [
       "{2}"
      ]
     },
     "execution_count": 27,
     "metadata": {},
     "output_type": "execute_result"
    }
   ],
   "source": [
    "S3.random_element() # a random element"
   ]
  },
  {
   "cell_type": "code",
   "execution_count": 28,
   "id": "21455ef9-4389-46c3-9c2c-b392f49fc1cb",
   "metadata": {},
   "outputs": [
    {
     "data": {
      "text/plain": [
       "[{}, {1}, {2}, {3}, {1, 2}, {1, 3}, {2, 3}, {1, 2, 3}]"
      ]
     },
     "execution_count": 28,
     "metadata": {},
     "output_type": "execute_result"
    }
   ],
   "source": [
    "list(S3) # listing all the elements"
   ]
  },
  {
   "cell_type": "code",
   "execution_count": null,
   "id": "73c3147e-efcd-4a01-87e8-9e54bdddc076",
   "metadata": {},
   "outputs": [],
   "source": []
  },
  {
   "cell_type": "code",
   "execution_count": 29,
   "id": "252c3b94-56de-461b-bbca-a27d22ea4f33",
   "metadata": {},
   "outputs": [
    {
     "data": {
      "text/plain": [
       "{1, 2}"
      ]
     },
     "execution_count": 29,
     "metadata": {},
     "output_type": "execute_result"
    }
   ],
   "source": [
    "# the element\n",
    "s = S3.an_element()\n",
    "s"
   ]
  },
  {
   "cell_type": "code",
   "execution_count": 30,
   "id": "20e5bcf2-9cde-40e8-aa40-45e101c55cae",
   "metadata": {},
   "outputs": [
    {
     "data": {
      "text/plain": [
       "<class 'sage.sets.set.Set_object_enumerated_with_category'>"
      ]
     },
     "execution_count": 30,
     "metadata": {},
     "output_type": "execute_result"
    }
   ],
   "source": [
    "type(s)"
   ]
  },
  {
   "cell_type": "code",
   "execution_count": 31,
   "id": "55654ec8-ced3-4f29-a5c9-1feeb0e248e0",
   "metadata": {},
   "outputs": [
    {
     "data": {
      "text/plain": [
       "{1, 2}"
      ]
     },
     "execution_count": 31,
     "metadata": {},
     "output_type": "execute_result"
    }
   ],
   "source": [
    "s1 = S3([1,2]) # another way to create the elemnt\n",
    "s"
   ]
  },
  {
   "cell_type": "code",
   "execution_count": 32,
   "id": "4d88b872-c182-4402-84e4-bf0c354f3db7",
   "metadata": {},
   "outputs": [
    {
     "data": {
      "text/plain": [
       "True"
      ]
     },
     "execution_count": 32,
     "metadata": {},
     "output_type": "execute_result"
    }
   ],
   "source": [
    "s in S3"
   ]
  },
  {
   "cell_type": "code",
   "execution_count": 33,
   "id": "9107bc2b-ce9e-4963-8fa7-81f3424f63b5",
   "metadata": {},
   "outputs": [
    {
     "data": {
      "text/plain": [
       "{1, 2}"
      ]
     },
     "execution_count": 33,
     "metadata": {},
     "output_type": "execute_result"
    }
   ],
   "source": [
    "s2 = Set([1,2]) # another way to create the element\n",
    "s"
   ]
  },
  {
   "cell_type": "code",
   "execution_count": 34,
   "id": "f634774f-e1c7-4d5d-9631-975866294b90",
   "metadata": {},
   "outputs": [
    {
     "data": {
      "text/plain": [
       "True"
      ]
     },
     "execution_count": 34,
     "metadata": {},
     "output_type": "execute_result"
    }
   ],
   "source": [
    "2 in s"
   ]
  },
  {
   "cell_type": "code",
   "execution_count": 35,
   "id": "6503ceba-a433-4e7d-927c-f014f35f1ec9",
   "metadata": {},
   "outputs": [
    {
     "data": {
      "text/plain": [
       "True"
      ]
     },
     "execution_count": 35,
     "metadata": {},
     "output_type": "execute_result"
    }
   ],
   "source": [
    "s1 == s2"
   ]
  },
  {
   "cell_type": "code",
   "execution_count": 39,
   "id": "4699f1fd-b199-4924-9dd1-1c9f6bf6d5fb",
   "metadata": {},
   "outputs": [],
   "source": [
    "S4 = Subsets([1,2,3,4])"
   ]
  },
  {
   "cell_type": "code",
   "execution_count": 40,
   "id": "f048b4de-1c87-4cd2-a132-88847dbf9bf2",
   "metadata": {},
   "outputs": [
    {
     "data": {
      "text/plain": [
       "False"
      ]
     },
     "execution_count": 40,
     "metadata": {},
     "output_type": "execute_result"
    }
   ],
   "source": [
    "Set([1,5]) in S4"
   ]
  },
  {
   "cell_type": "code",
   "execution_count": 37,
   "id": "83be80b3-76fc-4ed5-8d6f-8bb26690465d",
   "metadata": {},
   "outputs": [
    {
     "data": {
      "text/plain": [
       "True"
      ]
     },
     "execution_count": 37,
     "metadata": {},
     "output_type": "execute_result"
    }
   ],
   "source": [
    "s in S4"
   ]
  },
  {
   "cell_type": "code",
   "execution_count": 38,
   "id": "d5b841da-627e-4914-9eeb-68840e7fdc5d",
   "metadata": {},
   "outputs": [
    {
     "data": {
      "text/plain": [
       "Subsets of {'a', 4, 1.50000000000000}"
      ]
     },
     "execution_count": 38,
     "metadata": {},
     "output_type": "execute_result"
    }
   ],
   "source": [
    "Subsets([\"a\",4,1.5])"
   ]
  },
  {
   "cell_type": "code",
   "execution_count": 35,
   "id": "fafd36a3-0c6e-4a8b-b70d-fe29ff73e4cf",
   "metadata": {},
   "outputs": [
    {
     "data": {
      "text/plain": [
       "\u001b[0;31mSignature:\u001b[0m \u001b[0mS3\u001b[0m\u001b[0;34m.\u001b[0m\u001b[0m__contains__\u001b[0m\u001b[0;34m(\u001b[0m\u001b[0mvalue\u001b[0m\u001b[0;34m)\u001b[0m\u001b[0;34m\u001b[0m\u001b[0;34m\u001b[0m\u001b[0m\n",
       "\u001b[0;31mSource:\u001b[0m   \n",
       "    \u001b[0;32mdef\u001b[0m \u001b[0m__contains__\u001b[0m\u001b[0;34m(\u001b[0m\u001b[0mself\u001b[0m\u001b[0;34m,\u001b[0m \u001b[0mvalue\u001b[0m\u001b[0;34m)\u001b[0m\u001b[0;34m:\u001b[0m\u001b[0;34m\u001b[0m\n",
       "\u001b[0;34m\u001b[0m        \u001b[0;34m\"\"\"\u001b[0m\n",
       "\u001b[0;34m        TESTS::\u001b[0m\n",
       "\u001b[0;34m\u001b[0m\n",
       "\u001b[0;34m            sage: S = Subsets([1,2,3])\u001b[0m\n",
       "\u001b[0;34m            sage: Set([1,2]) in S\u001b[0m\n",
       "\u001b[0;34m            True\u001b[0m\n",
       "\u001b[0;34m            sage: Set([1,4]) in S\u001b[0m\n",
       "\u001b[0;34m            False\u001b[0m\n",
       "\u001b[0;34m            sage: Set([]) in S\u001b[0m\n",
       "\u001b[0;34m            True\u001b[0m\n",
       "\u001b[0;34m            sage: 2 in S\u001b[0m\n",
       "\u001b[0;34m            False\u001b[0m\n",
       "\u001b[0;34m        \"\"\"\u001b[0m\u001b[0;34m\u001b[0m\n",
       "\u001b[0;34m\u001b[0m        \u001b[0;32mif\u001b[0m \u001b[0mvalue\u001b[0m \u001b[0;32mnot\u001b[0m \u001b[0;32min\u001b[0m \u001b[0mSets\u001b[0m\u001b[0;34m(\u001b[0m\u001b[0;34m)\u001b[0m\u001b[0;34m:\u001b[0m\u001b[0;34m\u001b[0m\n",
       "\u001b[0;34m\u001b[0m            \u001b[0;32mreturn\u001b[0m \u001b[0;32mFalse\u001b[0m\u001b[0;34m\u001b[0m\n",
       "\u001b[0;34m\u001b[0m        \u001b[0;32mreturn\u001b[0m \u001b[0mall\u001b[0m\u001b[0;34m(\u001b[0m\u001b[0mv\u001b[0m \u001b[0;32min\u001b[0m \u001b[0mself\u001b[0m\u001b[0;34m.\u001b[0m\u001b[0m_s\u001b[0m \u001b[0;32mfor\u001b[0m \u001b[0mv\u001b[0m \u001b[0;32min\u001b[0m \u001b[0mvalue\u001b[0m\u001b[0;34m)\u001b[0m\u001b[0;34m\u001b[0m\u001b[0;34m\u001b[0m\u001b[0m\n",
       "\u001b[0;31mFile:\u001b[0m      ~/miniconda3/envs/jupyter-sage/lib/python3.11/site-packages/sage/combinat/subset.py\n",
       "\u001b[0;31mType:\u001b[0m      method"
      ]
     },
     "metadata": {},
     "output_type": "display_data"
    }
   ],
   "source": [
    "S3.__contains__??"
   ]
  },
  {
   "cell_type": "markdown",
   "id": "81d7cbba-6dbd-4d22-9f27-467309c1e9e6",
   "metadata": {},
   "source": [
    "Having a specific class for the parent allows us to symbolically manipulate big sets of objetcs without actually creating all the objetcs "
   ]
  },
  {
   "cell_type": "code",
   "execution_count": 41,
   "id": "7c33b997-585a-4394-b31d-40606bf5ba4d",
   "metadata": {},
   "outputs": [],
   "source": [
    "S200 = Subsets(range(200))"
   ]
  },
  {
   "cell_type": "code",
   "execution_count": 42,
   "id": "e8dea859-b846-4431-9b82-6a52eec0e671",
   "metadata": {},
   "outputs": [
    {
     "data": {
      "text/plain": [
       "Subsets of {0, 1, 2, 3, 4, 5, 6, 7, 8, 9, 10, 11, 12, 13, 14, 15, 16, 17, 18, 19, 20, 21, 22, 23, 24, 25, 26, 27, 28, 29, 30, 31, 32, 33, 34, 35, 36, 37, 38, 39, 40, 41, 42, 43, 44, 45, 46, 47, 48, 49, 50, 51, 52, 53, 54, 55, 56, 57, 58, 59, 60, 61, 62, 63, 64, 65, 66, 67, 68, 69, 70, 71, 72, 73, 74, 75, 76, 77, 78, 79, 80, 81, 82, 83, 84, 85, 86, 87, 88, 89, 90, 91, 92, 93, 94, 95, 96, 97, 98, 99, 100, 101, 102, 103, 104, 105, 106, 107, 108, 109, 110, 111, 112, 113, 114, 115, 116, 117, 118, 119, 120, 121, 122, 123, 124, 125, 126, 127, 128, 129, 130, 131, 132, 133, 134, 135, 136, 137, 138, 139, 140, 141, 142, 143, 144, 145, 146, 147, 148, 149, 150, 151, 152, 153, 154, 155, 156, 157, 158, 159, 160, 161, 162, 163, 164, 165, 166, 167, 168, 169, 170, 171, 172, 173, 174, 175, 176, 177, 178, 179, 180, 181, 182, 183, 184, 185, 186, 187, 188, 189, 190, 191, 192, 193, 194, 195, 196, 197, 198, 199}"
      ]
     },
     "execution_count": 42,
     "metadata": {},
     "output_type": "execute_result"
    }
   ],
   "source": [
    "S200"
   ]
  },
  {
   "cell_type": "code",
   "execution_count": 43,
   "id": "2c795180-dd02-47f6-8d5d-070ab5d65842",
   "metadata": {},
   "outputs": [
    {
     "data": {
      "text/plain": [
       "1606938044258990275541962092341162602522202993782792835301376"
      ]
     },
     "execution_count": 43,
     "metadata": {},
     "output_type": "execute_result"
    }
   ],
   "source": [
    "S200.cardinality()"
   ]
  },
  {
   "cell_type": "code",
   "execution_count": 44,
   "id": "f6239fd7-4e7b-4435-9078-bad9285fbd44",
   "metadata": {},
   "outputs": [
    {
     "data": {
      "text/plain": [
       "{0, 1, 2, 4, 6, 9, 10, 13, 14, 15, 16, 18, 21, 25, 26, 27, 28, 29, 33, 34, 35, 36, 37, 43, 46, 49, 54, 57, 58, 59, 61, 63, 65, 66, 67, 68, 69, 71, 74, 77, 78, 79, 80, 82, 84, 85, 86, 87, 92, 94, 96, 97, 98, 99, 100, 101, 102, 103, 105, 107, 110, 112, 115, 117, 118, 121, 122, 125, 127, 129, 131, 133, 135, 138, 140, 141, 142, 143, 145, 149, 150, 153, 156, 157, 158, 159, 161, 162, 163, 165, 166, 168, 170, 171, 174, 175, 176, 180, 182, 183, 184, 187, 189, 193, 194, 196, 198, 199}"
      ]
     },
     "execution_count": 44,
     "metadata": {},
     "output_type": "execute_result"
    }
   ],
   "source": [
    "S200.random_element()"
   ]
  },
  {
   "cell_type": "code",
   "execution_count": 45,
   "id": "2934b367-8294-4909-aa00-1fab7ddd3203",
   "metadata": {},
   "outputs": [
    {
     "name": "stdout",
     "output_type": "stream",
     "text": [
      "{100}\n"
     ]
    }
   ],
   "source": [
    "for s in S200:\n",
    "    if 100 in s:\n",
    "        print(s)\n",
    "        break"
   ]
  },
  {
   "cell_type": "markdown",
   "id": "29361bd7-cb98-4e93-937b-2f1e35332e0a",
   "metadata": {},
   "source": [
    "Besides, parents also have \"categories\" and are embeded with a bunch of default methods "
   ]
  },
  {
   "cell_type": "code",
   "execution_count": 46,
   "id": "2f0879b1-0c3f-4c9d-82a9-eb01cab55a8f",
   "metadata": {},
   "outputs": [
    {
     "data": {
      "text/plain": [
       "[Category of finite enumerated sets,\n",
       " Category of enumerated sets,\n",
       " Category of finite sets,\n",
       " Category of sets,\n",
       " Category of sets with partial maps,\n",
       " Category of objects]"
      ]
     },
     "execution_count": 46,
     "metadata": {},
     "output_type": "execute_result"
    }
   ],
   "source": [
    "S200.categories()"
   ]
  },
  {
   "cell_type": "markdown",
   "id": "2546e0d5-30f1-4407-8a4b-c5893b701407",
   "metadata": {},
   "source": [
    "In most examples from combinatorics, we manipulate \"enumerated sets\" or \"finite enumerated sets\". These objects are expected to implement an `__iter__` method to enumerate their elements using python iterators"
   ]
  },
  {
   "cell_type": "code",
   "execution_count": 47,
   "id": "44cd049e-e16e-4ae1-ada4-0c366a811366",
   "metadata": {},
   "outputs": [
    {
     "data": {
      "text/plain": [
       "\u001b[0;31mSignature:\u001b[0m \u001b[0mS200\u001b[0m\u001b[0;34m.\u001b[0m\u001b[0m__iter__\u001b[0m\u001b[0;34m(\u001b[0m\u001b[0;34m)\u001b[0m\u001b[0;34m\u001b[0m\u001b[0;34m\u001b[0m\u001b[0m\n",
       "\u001b[0;31mDocstring:\u001b[0m\n",
       "   Iterate through the subsets of \"s\".\n",
       "\n",
       "   EXAMPLES:\n",
       "\n",
       "      sage: [sub for sub in Subsets(Set([1,2,3]))]\n",
       "      [{}, {1}, {2}, {3}, {1, 2}, {1, 3}, {2, 3}, {1, 2, 3}]\n",
       "      sage: [sub for sub in Subsets(3)]\n",
       "      [{}, {1}, {2}, {3}, {1, 2}, {1, 3}, {2, 3}, {1, 2, 3}]\n",
       "      sage: [sub for sub in Subsets([1,2,3,3])]\n",
       "      [{}, {1}, {2}, {3}, {1, 2}, {1, 3}, {2, 3}, {1, 2, 3}]\n",
       "\u001b[0;31mSource:\u001b[0m   \n",
       "    \u001b[0;32mdef\u001b[0m \u001b[0m__iter__\u001b[0m\u001b[0;34m(\u001b[0m\u001b[0mself\u001b[0m\u001b[0;34m)\u001b[0m\u001b[0;34m:\u001b[0m\u001b[0;34m\u001b[0m\n",
       "\u001b[0;34m\u001b[0m        \u001b[0;34m\"\"\"\u001b[0m\n",
       "\u001b[0;34m        Iterate through the subsets of ``s``.\u001b[0m\n",
       "\u001b[0;34m\u001b[0m\n",
       "\u001b[0;34m        EXAMPLES::\u001b[0m\n",
       "\u001b[0;34m\u001b[0m\n",
       "\u001b[0;34m            sage: [sub for sub in Subsets(Set([1,2,3]))]\u001b[0m\n",
       "\u001b[0;34m            [{}, {1}, {2}, {3}, {1, 2}, {1, 3}, {2, 3}, {1, 2, 3}]\u001b[0m\n",
       "\u001b[0;34m            sage: [sub for sub in Subsets(3)]\u001b[0m\n",
       "\u001b[0;34m            [{}, {1}, {2}, {3}, {1, 2}, {1, 3}, {2, 3}, {1, 2, 3}]\u001b[0m\n",
       "\u001b[0;34m            sage: [sub for sub in Subsets([1,2,3,3])]\u001b[0m\n",
       "\u001b[0;34m            [{}, {1}, {2}, {3}, {1, 2}, {1, 3}, {2, 3}, {1, 2, 3}]\u001b[0m\n",
       "\u001b[0;34m\u001b[0m\n",
       "\u001b[0;34m        \"\"\"\u001b[0m\u001b[0;34m\u001b[0m\n",
       "\u001b[0;34m\u001b[0m        \u001b[0mk\u001b[0m \u001b[0;34m=\u001b[0m \u001b[0mZZ_0\u001b[0m\u001b[0;34m\u001b[0m\n",
       "\u001b[0;34m\u001b[0m        \u001b[0;32mwhile\u001b[0m \u001b[0mk\u001b[0m \u001b[0;34m<=\u001b[0m \u001b[0mself\u001b[0m\u001b[0;34m.\u001b[0m\u001b[0m_s\u001b[0m\u001b[0;34m.\u001b[0m\u001b[0mcardinality\u001b[0m\u001b[0;34m(\u001b[0m\u001b[0;34m)\u001b[0m\u001b[0;34m:\u001b[0m\u001b[0;34m\u001b[0m\n",
       "\u001b[0;34m\u001b[0m            \u001b[0;32mfor\u001b[0m \u001b[0mss\u001b[0m \u001b[0;32min\u001b[0m \u001b[0mSubsets_sk\u001b[0m\u001b[0;34m(\u001b[0m\u001b[0mself\u001b[0m\u001b[0;34m.\u001b[0m\u001b[0m_s\u001b[0m\u001b[0;34m,\u001b[0m \u001b[0mk\u001b[0m\u001b[0;34m)\u001b[0m\u001b[0;34m.\u001b[0m\u001b[0m_fast_iterator\u001b[0m\u001b[0;34m(\u001b[0m\u001b[0;34m)\u001b[0m\u001b[0;34m:\u001b[0m\u001b[0;34m\u001b[0m\n",
       "\u001b[0;34m\u001b[0m                \u001b[0;32myield\u001b[0m \u001b[0mself\u001b[0m\u001b[0;34m.\u001b[0m\u001b[0melement_class\u001b[0m\u001b[0;34m(\u001b[0m\u001b[0mss\u001b[0m\u001b[0;34m)\u001b[0m\u001b[0;34m\u001b[0m\n",
       "\u001b[0;34m\u001b[0m            \u001b[0mk\u001b[0m \u001b[0;34m+=\u001b[0m \u001b[0;36m1\u001b[0m\u001b[0;34m\u001b[0m\u001b[0;34m\u001b[0m\u001b[0m\n",
       "\u001b[0;31mFile:\u001b[0m      ~/miniconda3/envs/jupyter-sage/lib/python3.11/site-packages/sage/combinat/subset.py\n",
       "\u001b[0;31mType:\u001b[0m      method"
      ]
     },
     "metadata": {},
     "output_type": "display_data"
    }
   ],
   "source": [
    "S200.__iter__??"
   ]
  },
  {
   "cell_type": "code",
   "execution_count": 43,
   "id": "e881be8e-9a79-40f1-8a9b-313399164a9e",
   "metadata": {},
   "outputs": [
    {
     "data": {
      "text/plain": [
       "0"
      ]
     },
     "execution_count": 43,
     "metadata": {},
     "output_type": "execute_result"
    }
   ],
   "source": [
    "ZZ(0)"
   ]
  },
  {
   "cell_type": "markdown",
   "id": "5c810f98-a030-4c57-bfd1-468efa8f2faa",
   "metadata": {},
   "source": [
    "## Examples from combinatorics"
   ]
  },
  {
   "cell_type": "code",
   "execution_count": 48,
   "id": "8b099ac9-dc93-4bc1-97d0-45ec2b386754",
   "metadata": {},
   "outputs": [
    {
     "data": {
      "text/plain": [
       "Complete Dyck words"
      ]
     },
     "execution_count": 48,
     "metadata": {},
     "output_type": "execute_result"
    }
   ],
   "source": [
    "DW = DyckWords()\n",
    "DW"
   ]
  },
  {
   "cell_type": "code",
   "execution_count": 49,
   "id": "605fdb5a-7d3f-4ae5-abeb-af8e58924e9a",
   "metadata": {},
   "outputs": [
    {
     "data": {
      "text/plain": [
       "[Category of infinite enumerated sets,\n",
       " Category of enumerated sets,\n",
       " Category of infinite sets,\n",
       " Category of sets,\n",
       " Category of sets with partial maps,\n",
       " Category of objects]"
      ]
     },
     "execution_count": 49,
     "metadata": {},
     "output_type": "execute_result"
    }
   ],
   "source": [
    "DW.categories()"
   ]
  },
  {
   "cell_type": "code",
   "execution_count": 50,
   "id": "cfa615cd-9e6c-459f-95c5-9aed1a1d6aea",
   "metadata": {},
   "outputs": [
    {
     "data": {
      "image/svg+xml": [
       "<?xml version=\"1.0\" standalone=\"no\"?><!DOCTYPE svg PUBLIC \"-//W3C//DTD SVG 1.1//EN\" \"http://www.w3.org/Graphics/SVG/1.1/DTD/svg11.dtd\"><svg xmlns=\"http://www.w3.org/2000/svg\" xmlns:xlink=\"http://www.w3.org/1999/xlink\" width=\"500\" viewBox=\"-0.2 -1.2 10.4 1.4 \"><g style=\"stroke-width:0.1;stroke-linejoin:bevel; stroke-linecap:butt; stroke:black; fill:snow\"><polyline points=\"0,0 1,-1 2,0 3,-1 4,0 5,-1 6,0 7,-1 8,0 9,-1 10,0 \"/> </g><g style=\"stroke-width:0.05;stroke-linejoin:bevel;stroke-dasharray:0.25; stroke-linecap:butt; stroke:gray; fill:none\"><line x1=\"0\" y1=\"0\" x2=\"2\" y2=\"0\"/><line x1=\"2\" y1=\"0\" x2=\"4\" y2=\"0\"/><line x1=\"4\" y1=\"0\" x2=\"6\" y2=\"0\"/><line x1=\"6\" y1=\"0\" x2=\"8\" y2=\"0\"/><line x1=\"8\" y1=\"0\" x2=\"10\" y2=\"0\"/></g></svg>"
      ],
      "text/plain": [
       "[1, 0, 1, 0, 1, 0, 1, 0, 1, 0]"
      ]
     },
     "execution_count": 50,
     "metadata": {},
     "output_type": "execute_result"
    }
   ],
   "source": [
    "DW.an_element()"
   ]
  },
  {
   "cell_type": "code",
   "execution_count": 51,
   "id": "44c00608-ed87-4a90-91d3-15b94536e436",
   "metadata": {},
   "outputs": [
    {
     "data": {
      "text/plain": [
       "Dyck words with 3 opening parentheses and 3 closing parentheses"
      ]
     },
     "execution_count": 51,
     "metadata": {},
     "output_type": "execute_result"
    }
   ],
   "source": [
    "DW3 = DyckWords(3)\n",
    "DW3"
   ]
  },
  {
   "cell_type": "code",
   "execution_count": 52,
   "id": "7dfdcf4e-f146-4509-a045-9c5755e636e7",
   "metadata": {},
   "outputs": [
    {
     "data": {
      "text/plain": [
       "[Category of finite enumerated sets,\n",
       " Category of enumerated sets,\n",
       " Category of finite sets,\n",
       " Category of sets,\n",
       " Category of sets with partial maps,\n",
       " Category of objects]"
      ]
     },
     "execution_count": 52,
     "metadata": {},
     "output_type": "execute_result"
    }
   ],
   "source": [
    "DW3.categories()"
   ]
  },
  {
   "cell_type": "code",
   "execution_count": 53,
   "id": "8bb53da5-73bf-4baf-8052-0a19f666e46c",
   "metadata": {},
   "outputs": [
    {
     "data": {
      "text/plain": [
       "5"
      ]
     },
     "execution_count": 53,
     "metadata": {},
     "output_type": "execute_result"
    }
   ],
   "source": [
    "DW3.cardinality()"
   ]
  },
  {
   "cell_type": "code",
   "execution_count": 54,
   "id": "e5ab81f3-f5b5-42f0-ae75-3a3627394a34",
   "metadata": {},
   "outputs": [
    {
     "data": {
      "text/plain": [
       "[[1, 0, 1, 0, 1, 0],\n",
       " [1, 0, 1, 1, 0, 0],\n",
       " [1, 1, 0, 0, 1, 0],\n",
       " [1, 1, 0, 1, 0, 0],\n",
       " [1, 1, 1, 0, 0, 0]]"
      ]
     },
     "execution_count": 54,
     "metadata": {},
     "output_type": "execute_result"
    }
   ],
   "source": [
    "list(DW3)"
   ]
  },
  {
   "cell_type": "code",
   "execution_count": 57,
   "id": "47f41568-cf26-474f-b418-35084808a10e",
   "metadata": {},
   "outputs": [
    {
     "data": {
      "image/svg+xml": [
       "<?xml version=\"1.0\" standalone=\"no\"?><!DOCTYPE svg PUBLIC \"-//W3C//DTD SVG 1.1//EN\" \"http://www.w3.org/Graphics/SVG/1.1/DTD/svg11.dtd\"><svg xmlns=\"http://www.w3.org/2000/svg\" xmlns:xlink=\"http://www.w3.org/1999/xlink\" width=\"500\" viewBox=\"-0.2 -1.2 6.4 1.4 \"><g style=\"stroke-width:0.1;stroke-linejoin:bevel; stroke-linecap:butt; stroke:black; fill:snow\"><polyline points=\"0,0 1,-1 2,0 3,-1 4,0 5,-1 6,0 \"/> </g><g style=\"stroke-width:0.05;stroke-linejoin:bevel;stroke-dasharray:0.25; stroke-linecap:butt; stroke:gray; fill:none\"><line x1=\"0\" y1=\"0\" x2=\"2\" y2=\"0\"/><line x1=\"2\" y1=\"0\" x2=\"4\" y2=\"0\"/><line x1=\"4\" y1=\"0\" x2=\"6\" y2=\"0\"/></g></svg>"
      ],
      "text/plain": [
       "[1, 0, 1, 0, 1, 0]"
      ]
     },
     "execution_count": 57,
     "metadata": {},
     "output_type": "execute_result"
    }
   ],
   "source": [
    "DW3.an_element()"
   ]
  },
  {
   "cell_type": "code",
   "execution_count": 63,
   "id": "56c12540-94f7-46ab-91fa-3388eecc7ffb",
   "metadata": {},
   "outputs": [
    {
     "data": {
      "image/svg+xml": [
       "<?xml version=\"1.0\" standalone=\"no\"?><!DOCTYPE svg PUBLIC \"-//W3C//DTD SVG 1.1//EN\" \"http://www.w3.org/Graphics/SVG/1.1/DTD/svg11.dtd\"><svg xmlns=\"http://www.w3.org/2000/svg\" xmlns:xlink=\"http://www.w3.org/1999/xlink\" width=\"500\" viewBox=\"-0.2 -2.2 6.4 2.4 \"><g style=\"stroke-width:0.1;stroke-linejoin:bevel; stroke-linecap:butt; stroke:black; fill:snow\"><polyline points=\"0,0 1,-1 2,-2 3,-1 4,-2 5,-1 6,0 \"/> </g><g style=\"stroke-width:0.05;stroke-linejoin:bevel;stroke-dasharray:0.25; stroke-linecap:butt; stroke:gray; fill:none\"><line x1=\"1\" y1=\"-1\" x2=\"3\" y2=\"-1\"/><line x1=\"3\" y1=\"-1\" x2=\"5\" y2=\"-1\"/><line x1=\"0\" y1=\"0\" x2=\"6\" y2=\"0\"/></g></svg>"
      ],
      "text/plain": [
       "[1, 1, 0, 1, 0, 0]"
      ]
     },
     "execution_count": 63,
     "metadata": {},
     "output_type": "execute_result"
    }
   ],
   "source": [
    "DW3.random_element()"
   ]
  },
  {
   "cell_type": "code",
   "execution_count": 65,
   "id": "d57b18e2-e57d-4647-907e-c666143e2d39",
   "metadata": {},
   "outputs": [],
   "source": [
    "DW20 = DyckWords(20)"
   ]
  },
  {
   "cell_type": "code",
   "execution_count": 72,
   "id": "2ffa132e-90a1-4259-b50b-29f8263a3ee5",
   "metadata": {},
   "outputs": [
    {
     "data": {
      "image/svg+xml": [
       "<?xml version=\"1.0\" standalone=\"no\"?><!DOCTYPE svg PUBLIC \"-//W3C//DTD SVG 1.1//EN\" \"http://www.w3.org/Graphics/SVG/1.1/DTD/svg11.dtd\"><svg xmlns=\"http://www.w3.org/2000/svg\" xmlns:xlink=\"http://www.w3.org/1999/xlink\" width=\"500\" viewBox=\"-0.4 -8.4 40.8 8.8 \"><g style=\"stroke-width:0.2;stroke-linejoin:bevel; stroke-linecap:butt; stroke:black; fill:snow\"><polyline points=\"0,0 1,-1 2,-2 3,-3 4,-4 5,-3 6,-4 7,-5 8,-4 9,-5 10,-4 11,-3 12,-4 13,-5 14,-6 15,-7 16,-6 17,-7 18,-8 19,-7 20,-8 21,-7 22,-6 23,-7 24,-6 25,-5 26,-6 27,-5 28,-6 29,-5 30,-4 31,-3 32,-2 33,-3 34,-2 35,-3 36,-2 37,-1 38,0 39,-1 40,0 \"/> </g><g style=\"stroke-width:0.1;stroke-linejoin:bevel;stroke-dasharray:0.25; stroke-linecap:butt; stroke:gray; fill:none\"><line x1=\"3\" y1=\"-3\" x2=\"5\" y2=\"-3\"/><line x1=\"6\" y1=\"-4\" x2=\"8\" y2=\"-4\"/><line x1=\"8\" y1=\"-4\" x2=\"10\" y2=\"-4\"/><line x1=\"5\" y1=\"-3\" x2=\"11\" y2=\"-3\"/><line x1=\"14\" y1=\"-6\" x2=\"16\" y2=\"-6\"/><line x1=\"17\" y1=\"-7\" x2=\"19\" y2=\"-7\"/><line x1=\"19\" y1=\"-7\" x2=\"21\" y2=\"-7\"/><line x1=\"16\" y1=\"-6\" x2=\"22\" y2=\"-6\"/><line x1=\"22\" y1=\"-6\" x2=\"24\" y2=\"-6\"/><line x1=\"13\" y1=\"-5\" x2=\"25\" y2=\"-5\"/><line x1=\"25\" y1=\"-5\" x2=\"27\" y2=\"-5\"/><line x1=\"27\" y1=\"-5\" x2=\"29\" y2=\"-5\"/><line x1=\"12\" y1=\"-4\" x2=\"30\" y2=\"-4\"/><line x1=\"11\" y1=\"-3\" x2=\"31\" y2=\"-3\"/><line x1=\"2\" y1=\"-2\" x2=\"32\" y2=\"-2\"/><line x1=\"32\" y1=\"-2\" x2=\"34\" y2=\"-2\"/><line x1=\"34\" y1=\"-2\" x2=\"36\" y2=\"-2\"/><line x1=\"1\" y1=\"-1\" x2=\"37\" y2=\"-1\"/><line x1=\"0\" y1=\"0\" x2=\"38\" y2=\"0\"/><line x1=\"38\" y1=\"0\" x2=\"40\" y2=\"0\"/></g></svg>"
      ],
      "text/plain": [
       "[1, 1, 1, 1, 0, 1, 1, 0, 1, 0, 0, 1, 1, 1, 1, 0, 1, 1, 0, 1, 0, 0, 1, 0, 0, 1, 0, 1, 0, 0, 0, 0, 1, 0, 1, 0, 0, 0, 1, 0]"
      ]
     },
     "execution_count": 72,
     "metadata": {},
     "output_type": "execute_result"
    }
   ],
   "source": [
    "DW20.random_element()"
   ]
  },
  {
   "cell_type": "code",
   "execution_count": 53,
   "id": "9f9c9796-305a-4c04-8827-9463bffe15e9",
   "metadata": {},
   "outputs": [
    {
     "data": {
      "text/plain": [
       "\u001b[0;31mSignature:\u001b[0m \u001b[0mDW3\u001b[0m\u001b[0;34m.\u001b[0m\u001b[0m__iter__\u001b[0m\u001b[0;34m(\u001b[0m\u001b[0;34m)\u001b[0m\u001b[0;34m\u001b[0m\u001b[0;34m\u001b[0m\u001b[0m\n",
       "\u001b[0;31mDocstring:\u001b[0m\n",
       "   Return an iterator for Dyck words with \"k1\" opening and \"k2\"\n",
       "   closing parentheses.\n",
       "\n",
       "   EXAMPLES:\n",
       "\n",
       "      sage: list(DyckWords(0))\n",
       "      [[]]\n",
       "      sage: list(DyckWords(1))\n",
       "      [[1, 0]]\n",
       "      sage: list(DyckWords(2))\n",
       "      [[1, 0, 1, 0], [1, 1, 0, 0]]\n",
       "      sage: len(DyckWords(5))\n",
       "      42\n",
       "      sage: list(DyckWords(3,2))\n",
       "      [[1, 0, 1, 0, 1],\n",
       "       [1, 0, 1, 1, 0],\n",
       "       [1, 1, 0, 0, 1],\n",
       "       [1, 1, 0, 1, 0],\n",
       "       [1, 1, 1, 0, 0]]\n",
       "\u001b[0;31mSource:\u001b[0m   \n",
       "    \u001b[0;32mdef\u001b[0m \u001b[0m__iter__\u001b[0m\u001b[0;34m(\u001b[0m\u001b[0mself\u001b[0m\u001b[0;34m)\u001b[0m\u001b[0;34m:\u001b[0m\u001b[0;34m\u001b[0m\n",
       "\u001b[0;34m\u001b[0m        \u001b[0;34mr\"\"\"\u001b[0m\n",
       "\u001b[0;34m        Return an iterator for Dyck words with ``k1`` opening and ``k2``\u001b[0m\n",
       "\u001b[0;34m        closing parentheses.\u001b[0m\n",
       "\u001b[0;34m\u001b[0m\n",
       "\u001b[0;34m        EXAMPLES::\u001b[0m\n",
       "\u001b[0;34m\u001b[0m\n",
       "\u001b[0;34m            sage: list(DyckWords(0))\u001b[0m\n",
       "\u001b[0;34m            [[]]\u001b[0m\n",
       "\u001b[0;34m            sage: list(DyckWords(1))\u001b[0m\n",
       "\u001b[0;34m            [[1, 0]]\u001b[0m\n",
       "\u001b[0;34m            sage: list(DyckWords(2))\u001b[0m\n",
       "\u001b[0;34m            [[1, 0, 1, 0], [1, 1, 0, 0]]\u001b[0m\n",
       "\u001b[0;34m            sage: len(DyckWords(5))\u001b[0m\n",
       "\u001b[0;34m            42\u001b[0m\n",
       "\u001b[0;34m            sage: list(DyckWords(3,2))\u001b[0m\n",
       "\u001b[0;34m            [[1, 0, 1, 0, 1],\u001b[0m\n",
       "\u001b[0;34m             [1, 0, 1, 1, 0],\u001b[0m\n",
       "\u001b[0;34m             [1, 1, 0, 0, 1],\u001b[0m\n",
       "\u001b[0;34m             [1, 1, 0, 1, 0],\u001b[0m\n",
       "\u001b[0;34m             [1, 1, 1, 0, 0]]\u001b[0m\n",
       "\u001b[0;34m        \"\"\"\u001b[0m\u001b[0;34m\u001b[0m\n",
       "\u001b[0;34m\u001b[0m        \u001b[0;32mif\u001b[0m \u001b[0mself\u001b[0m\u001b[0;34m.\u001b[0m\u001b[0mk1\u001b[0m \u001b[0;34m==\u001b[0m \u001b[0;36m0\u001b[0m\u001b[0;34m:\u001b[0m\u001b[0;34m\u001b[0m\n",
       "\u001b[0;34m\u001b[0m            \u001b[0;32myield\u001b[0m \u001b[0mself\u001b[0m\u001b[0;34m.\u001b[0m\u001b[0melement_class\u001b[0m\u001b[0;34m(\u001b[0m\u001b[0mself\u001b[0m\u001b[0;34m,\u001b[0m \u001b[0;34m[\u001b[0m\u001b[0;34m]\u001b[0m\u001b[0;34m)\u001b[0m\u001b[0;34m\u001b[0m\n",
       "\u001b[0;34m\u001b[0m        \u001b[0;32melif\u001b[0m \u001b[0mself\u001b[0m\u001b[0;34m.\u001b[0m\u001b[0mk2\u001b[0m \u001b[0;34m==\u001b[0m \u001b[0;36m0\u001b[0m\u001b[0;34m:\u001b[0m\u001b[0;34m\u001b[0m\n",
       "\u001b[0;34m\u001b[0m            \u001b[0;32myield\u001b[0m \u001b[0mself\u001b[0m\u001b[0;34m.\u001b[0m\u001b[0melement_class\u001b[0m\u001b[0;34m(\u001b[0m\u001b[0mself\u001b[0m\u001b[0;34m,\u001b[0m \u001b[0;34m[\u001b[0m\u001b[0mopen_symbol\u001b[0m\u001b[0;34m]\u001b[0m \u001b[0;34m*\u001b[0m \u001b[0mself\u001b[0m\u001b[0;34m.\u001b[0m\u001b[0mk1\u001b[0m\u001b[0;34m)\u001b[0m\u001b[0;34m\u001b[0m\n",
       "\u001b[0;34m\u001b[0m        \u001b[0;32melse\u001b[0m\u001b[0;34m:\u001b[0m\u001b[0;34m\u001b[0m\n",
       "\u001b[0;34m\u001b[0m            \u001b[0;32mfor\u001b[0m \u001b[0mw\u001b[0m \u001b[0;32min\u001b[0m \u001b[0mDyckWordBacktracker\u001b[0m\u001b[0;34m(\u001b[0m\u001b[0mself\u001b[0m\u001b[0;34m.\u001b[0m\u001b[0mk1\u001b[0m\u001b[0;34m,\u001b[0m \u001b[0mself\u001b[0m\u001b[0;34m.\u001b[0m\u001b[0mk2\u001b[0m\u001b[0;34m)\u001b[0m\u001b[0;34m:\u001b[0m\u001b[0;34m\u001b[0m\n",
       "\u001b[0;34m\u001b[0m                \u001b[0;32myield\u001b[0m \u001b[0mself\u001b[0m\u001b[0;34m.\u001b[0m\u001b[0melement_class\u001b[0m\u001b[0;34m(\u001b[0m\u001b[0mself\u001b[0m\u001b[0;34m,\u001b[0m \u001b[0mw\u001b[0m\u001b[0;34m)\u001b[0m\u001b[0;34m\u001b[0m\u001b[0;34m\u001b[0m\u001b[0m\n",
       "\u001b[0;31mFile:\u001b[0m      ~/miniconda3/envs/jupyter-sage/lib/python3.11/site-packages/sage/combinat/dyck_word.py\n",
       "\u001b[0;31mType:\u001b[0m      method"
      ]
     },
     "metadata": {},
     "output_type": "display_data"
    }
   ],
   "source": [
    "DW3.__iter__??"
   ]
  },
  {
   "cell_type": "code",
   "execution_count": 73,
   "id": "74f94392-982f-4ef4-a278-d23e15d0de09",
   "metadata": {},
   "outputs": [
    {
     "data": {
      "text/plain": [
       "\u001b[0;31mSignature:\u001b[0m \u001b[0mDW3\u001b[0m\u001b[0;34m.\u001b[0m\u001b[0mrandom_element\u001b[0m\u001b[0;34m(\u001b[0m\u001b[0;34m)\u001b[0m \u001b[0;34m->\u001b[0m \u001b[0;34m'DyckWord'\u001b[0m\u001b[0;34m\u001b[0m\u001b[0;34m\u001b[0m\u001b[0m\n",
       "\u001b[0;31mDocstring:\u001b[0m\n",
       "   Return a random complete Dyck word of semilength n.\n",
       "\n",
       "   The algorithm is based on a classical combinatorial fact. One\n",
       "   chooses at random a word with n 0's and n+1 1's. One then considers\n",
       "   every 1 as an ascending step and every 0 as a descending step, and\n",
       "   one finds the lowest point of the path (with respect to a slightly\n",
       "   tilted slope). One then cuts the path at this point and builds a\n",
       "   Dyck word by exchanging the two parts of the word and removing the\n",
       "   initial step.\n",
       "\n",
       "   Todo: extend this to m-Dyck words\n",
       "\n",
       "   EXAMPLES:\n",
       "\n",
       "      sage: dw = DyckWords(8)\n",
       "      sage: dw.random_element()  # random\n",
       "      [1, 1, 1, 1, 1, 0, 0, 0, 0, 0, 1, 0, 1, 0, 1, 0]\n",
       "\n",
       "      sage: D = DyckWords(8)\n",
       "      sage: D.random_element() in D\n",
       "      True\n",
       "\u001b[0;31mSource:\u001b[0m   \n",
       "    \u001b[0;32mdef\u001b[0m \u001b[0mrandom_element\u001b[0m\u001b[0;34m(\u001b[0m\u001b[0mself\u001b[0m\u001b[0;34m)\u001b[0m \u001b[0;34m->\u001b[0m \u001b[0mDyckWord\u001b[0m\u001b[0;34m:\u001b[0m\u001b[0;34m\u001b[0m\n",
       "\u001b[0;34m\u001b[0m        \u001b[0;34m\"\"\"\u001b[0m\n",
       "\u001b[0;34m        Return a random complete Dyck word of semilength `n`.\u001b[0m\n",
       "\u001b[0;34m\u001b[0m\n",
       "\u001b[0;34m        The algorithm is based on a classical combinatorial fact. One\u001b[0m\n",
       "\u001b[0;34m        chooses at random a word with `n` 0's and `n+1` 1's. One then\u001b[0m\n",
       "\u001b[0;34m        considers every 1 as an ascending step and every 0 as a\u001b[0m\n",
       "\u001b[0;34m        descending step, and one finds the lowest point of the path\u001b[0m\n",
       "\u001b[0;34m        (with respect to a slightly tilted slope). One then cuts the\u001b[0m\n",
       "\u001b[0;34m        path at this point and builds a Dyck word by exchanging the\u001b[0m\n",
       "\u001b[0;34m        two parts of the word and removing the initial step.\u001b[0m\n",
       "\u001b[0;34m\u001b[0m\n",
       "\u001b[0;34m        .. TODO::\u001b[0m\n",
       "\u001b[0;34m\u001b[0m\n",
       "\u001b[0;34m            extend this to m-Dyck words\u001b[0m\n",
       "\u001b[0;34m\u001b[0m\n",
       "\u001b[0;34m        EXAMPLES::\u001b[0m\n",
       "\u001b[0;34m\u001b[0m\n",
       "\u001b[0;34m            sage: dw = DyckWords(8)\u001b[0m\n",
       "\u001b[0;34m            sage: dw.random_element()  # random\u001b[0m\n",
       "\u001b[0;34m            [1, 1, 1, 1, 1, 0, 0, 0, 0, 0, 1, 0, 1, 0, 1, 0]\u001b[0m\n",
       "\u001b[0;34m\u001b[0m\n",
       "\u001b[0;34m            sage: D = DyckWords(8)\u001b[0m\n",
       "\u001b[0;34m            sage: D.random_element() in D\u001b[0m\n",
       "\u001b[0;34m            True\u001b[0m\n",
       "\u001b[0;34m        \"\"\"\u001b[0m\u001b[0;34m\u001b[0m\n",
       "\u001b[0;34m\u001b[0m        \u001b[0;32mfrom\u001b[0m \u001b[0msage\u001b[0m\u001b[0;34m.\u001b[0m\u001b[0mmisc\u001b[0m\u001b[0;34m.\u001b[0m\u001b[0mprandom\u001b[0m \u001b[0;32mimport\u001b[0m \u001b[0mshuffle\u001b[0m\u001b[0;34m\u001b[0m\n",
       "\u001b[0;34m\u001b[0m        \u001b[0mn\u001b[0m \u001b[0;34m=\u001b[0m \u001b[0mself\u001b[0m\u001b[0;34m.\u001b[0m\u001b[0mk1\u001b[0m\u001b[0;34m\u001b[0m\n",
       "\u001b[0;34m\u001b[0m        \u001b[0mw\u001b[0m \u001b[0;34m=\u001b[0m \u001b[0;34m[\u001b[0m\u001b[0;36m0\u001b[0m\u001b[0;34m]\u001b[0m \u001b[0;34m*\u001b[0m \u001b[0mn\u001b[0m \u001b[0;34m+\u001b[0m \u001b[0;34m[\u001b[0m\u001b[0;36m1\u001b[0m\u001b[0;34m]\u001b[0m \u001b[0;34m*\u001b[0m \u001b[0;34m(\u001b[0m\u001b[0mn\u001b[0m \u001b[0;34m+\u001b[0m \u001b[0;36m1\u001b[0m\u001b[0;34m)\u001b[0m\u001b[0;34m\u001b[0m\n",
       "\u001b[0;34m\u001b[0m        \u001b[0mshuffle\u001b[0m\u001b[0;34m(\u001b[0m\u001b[0mw\u001b[0m\u001b[0;34m)\u001b[0m\u001b[0;34m\u001b[0m\n",
       "\u001b[0;34m\u001b[0m        \u001b[0midx\u001b[0m \u001b[0;34m=\u001b[0m \u001b[0;36m0\u001b[0m\u001b[0;34m\u001b[0m\n",
       "\u001b[0;34m\u001b[0m        \u001b[0mheight\u001b[0m \u001b[0;34m=\u001b[0m \u001b[0;36m0\u001b[0m\u001b[0;34m\u001b[0m\n",
       "\u001b[0;34m\u001b[0m        \u001b[0mheight_min\u001b[0m \u001b[0;34m=\u001b[0m \u001b[0;36m0\u001b[0m\u001b[0;34m\u001b[0m\n",
       "\u001b[0;34m\u001b[0m        \u001b[0;32mfor\u001b[0m \u001b[0mi\u001b[0m \u001b[0;32min\u001b[0m \u001b[0mrange\u001b[0m\u001b[0;34m(\u001b[0m\u001b[0;36m2\u001b[0m \u001b[0;34m*\u001b[0m \u001b[0mn\u001b[0m\u001b[0;34m)\u001b[0m\u001b[0;34m:\u001b[0m\u001b[0;34m\u001b[0m\n",
       "\u001b[0;34m\u001b[0m            \u001b[0;32mif\u001b[0m \u001b[0mw\u001b[0m\u001b[0;34m[\u001b[0m\u001b[0mi\u001b[0m\u001b[0;34m]\u001b[0m \u001b[0;34m==\u001b[0m \u001b[0;36m1\u001b[0m\u001b[0;34m:\u001b[0m\u001b[0;34m\u001b[0m\n",
       "\u001b[0;34m\u001b[0m                \u001b[0mheight\u001b[0m \u001b[0;34m+=\u001b[0m \u001b[0mn\u001b[0m\u001b[0;34m\u001b[0m\n",
       "\u001b[0;34m\u001b[0m            \u001b[0;32melse\u001b[0m\u001b[0;34m:\u001b[0m\u001b[0;34m\u001b[0m\n",
       "\u001b[0;34m\u001b[0m                \u001b[0mheight\u001b[0m \u001b[0;34m-=\u001b[0m \u001b[0mn\u001b[0m \u001b[0;34m+\u001b[0m \u001b[0;36m1\u001b[0m\u001b[0;34m\u001b[0m\n",
       "\u001b[0;34m\u001b[0m                \u001b[0;32mif\u001b[0m \u001b[0mheight\u001b[0m \u001b[0;34m<\u001b[0m \u001b[0mheight_min\u001b[0m\u001b[0;34m:\u001b[0m\u001b[0;34m\u001b[0m\n",
       "\u001b[0;34m\u001b[0m                    \u001b[0mheight_min\u001b[0m \u001b[0;34m=\u001b[0m \u001b[0mheight\u001b[0m\u001b[0;34m\u001b[0m\n",
       "\u001b[0;34m\u001b[0m                    \u001b[0midx\u001b[0m \u001b[0;34m=\u001b[0m \u001b[0mi\u001b[0m \u001b[0;34m+\u001b[0m \u001b[0;36m1\u001b[0m\u001b[0;34m\u001b[0m\n",
       "\u001b[0;34m\u001b[0m        \u001b[0mw\u001b[0m \u001b[0;34m=\u001b[0m \u001b[0mw\u001b[0m\u001b[0;34m[\u001b[0m\u001b[0midx\u001b[0m\u001b[0;34m:\u001b[0m\u001b[0;34m]\u001b[0m \u001b[0;34m+\u001b[0m \u001b[0mw\u001b[0m\u001b[0;34m[\u001b[0m\u001b[0;34m:\u001b[0m\u001b[0midx\u001b[0m\u001b[0;34m]\u001b[0m\u001b[0;34m\u001b[0m\n",
       "\u001b[0;34m\u001b[0m        \u001b[0;32mreturn\u001b[0m \u001b[0mself\u001b[0m\u001b[0;34m.\u001b[0m\u001b[0melement_class\u001b[0m\u001b[0;34m(\u001b[0m\u001b[0mself\u001b[0m\u001b[0;34m,\u001b[0m \u001b[0mw\u001b[0m\u001b[0;34m[\u001b[0m\u001b[0;36m1\u001b[0m\u001b[0;34m:\u001b[0m\u001b[0;34m]\u001b[0m\u001b[0;34m)\u001b[0m\u001b[0;34m\u001b[0m\u001b[0;34m\u001b[0m\u001b[0m\n",
       "\u001b[0;31mFile:\u001b[0m      ~/miniconda3/envs/jupyter-sage/lib/python3.11/site-packages/sage/combinat/dyck_word.py\n",
       "\u001b[0;31mType:\u001b[0m      method"
      ]
     },
     "metadata": {},
     "output_type": "display_data"
    }
   ],
   "source": [
    "DW3.random_element??"
   ]
  },
  {
   "cell_type": "code",
   "execution_count": 74,
   "id": "ce795f2a-00b6-426b-b3f6-53529da5eb0b",
   "metadata": {},
   "outputs": [
    {
     "data": {
      "image/svg+xml": [
       "<?xml version=\"1.0\" standalone=\"no\"?><!DOCTYPE svg PUBLIC \"-//W3C//DTD SVG 1.1//EN\" \"http://www.w3.org/Graphics/SVG/1.1/DTD/svg11.dtd\"><svg xmlns=\"http://www.w3.org/2000/svg\" xmlns:xlink=\"http://www.w3.org/1999/xlink\" width=\"500\" viewBox=\"-0.2 -2.2 6.4 2.4 \"><g style=\"stroke-width:0.1;stroke-linejoin:bevel; stroke-linecap:butt; stroke:black; fill:snow\"><polyline points=\"0,0 1,-1 2,-2 3,-1 4,0 5,-1 6,0 \"/> </g><g style=\"stroke-width:0.05;stroke-linejoin:bevel;stroke-dasharray:0.25; stroke-linecap:butt; stroke:gray; fill:none\"><line x1=\"1\" y1=\"-1\" x2=\"3\" y2=\"-1\"/><line x1=\"0\" y1=\"0\" x2=\"4\" y2=\"0\"/><line x1=\"4\" y1=\"0\" x2=\"6\" y2=\"0\"/></g></svg>"
      ],
      "text/plain": [
       "[1, 1, 0, 0, 1, 0]"
      ]
     },
     "execution_count": 74,
     "metadata": {},
     "output_type": "execute_result"
    }
   ],
   "source": [
    "dw = DyckWord([1,1,0,0,1,0])\n",
    "dw"
   ]
  },
  {
   "cell_type": "code",
   "execution_count": 75,
   "id": "d1776903-27eb-40e6-8910-6b5634b171c6",
   "metadata": {},
   "outputs": [
    {
     "data": {
      "text/plain": [
       "True"
      ]
     },
     "execution_count": 75,
     "metadata": {},
     "output_type": "execute_result"
    }
   ],
   "source": [
    "dw in DW"
   ]
  },
  {
   "cell_type": "code",
   "execution_count": 76,
   "id": "b91a5080-672d-4211-ae66-278dcbdcb2b2",
   "metadata": {},
   "outputs": [
    {
     "data": {
      "text/plain": [
       "True"
      ]
     },
     "execution_count": 76,
     "metadata": {},
     "output_type": "execute_result"
    }
   ],
   "source": [
    "dw in DW3"
   ]
  },
  {
   "cell_type": "code",
   "execution_count": 77,
   "id": "e1d5900e-ed43-4de7-909f-678ea8a0ec59",
   "metadata": {},
   "outputs": [
    {
     "data": {
      "text/plain": [
       "False"
      ]
     },
     "execution_count": 77,
     "metadata": {},
     "output_type": "execute_result"
    }
   ],
   "source": [
    "dw in DW20"
   ]
  },
  {
   "cell_type": "code",
   "execution_count": 78,
   "id": "2135b54d-63d6-49a2-8c05-f20d126678af",
   "metadata": {},
   "outputs": [
    {
     "data": {
      "text/plain": [
       "Complete Dyck words"
      ]
     },
     "execution_count": 78,
     "metadata": {},
     "output_type": "execute_result"
    }
   ],
   "source": [
    "dw.parent()"
   ]
  },
  {
   "cell_type": "code",
   "execution_count": 79,
   "id": "1edb72fa-641d-4976-8b8d-bc98c596d507",
   "metadata": {},
   "outputs": [
    {
     "data": {
      "text/plain": [
       "[0, 1, 0]"
      ]
     },
     "execution_count": 79,
     "metadata": {},
     "output_type": "execute_result"
    }
   ],
   "source": [
    "dw.to_area_sequence()"
   ]
  },
  {
   "cell_type": "code",
   "execution_count": 80,
   "id": "0a4810ba-9514-4019-92d5-283502a2ab9b",
   "metadata": {},
   "outputs": [
    {
     "data": {
      "text/plain": [
       "[[0, 0, 0], [0, 0, 1], [0, 1, 0], [0, 1, 1], [0, 1, 2]]"
      ]
     },
     "execution_count": 80,
     "metadata": {},
     "output_type": "execute_result"
    }
   ],
   "source": [
    "[dw.to_area_sequence() for dw in DW3]"
   ]
  },
  {
   "cell_type": "code",
   "execution_count": 81,
   "id": "5a2a1d1a-f8db-46d3-85f9-860984e81839",
   "metadata": {},
   "outputs": [
    {
     "data": {
      "text/plain": [
       "Standard permutations"
      ]
     },
     "execution_count": 81,
     "metadata": {},
     "output_type": "execute_result"
    }
   ],
   "source": [
    "P = Permutations()\n",
    "P"
   ]
  },
  {
   "cell_type": "code",
   "execution_count": 82,
   "id": "e9699890-cee4-4366-95b7-103b2563c69f",
   "metadata": {},
   "outputs": [
    {
     "data": {
      "text/plain": [
       "[Category of infinite enumerated sets with grading,\n",
       " Category of sets with grading,\n",
       " Category of infinite enumerated sets,\n",
       " Category of enumerated sets,\n",
       " Category of infinite sets,\n",
       " Category of sets,\n",
       " Category of sets with partial maps,\n",
       " Category of objects]"
      ]
     },
     "execution_count": 82,
     "metadata": {},
     "output_type": "execute_result"
    }
   ],
   "source": [
    "P.categories()"
   ]
  },
  {
   "cell_type": "code",
   "execution_count": 83,
   "id": "8356a1b8-ce4c-4bbe-ae4e-72f44f6cd294",
   "metadata": {},
   "outputs": [
    {
     "data": {
      "text/plain": [
       "Standard permutations of 3"
      ]
     },
     "execution_count": 83,
     "metadata": {},
     "output_type": "execute_result"
    }
   ],
   "source": [
    "P3 = Permutations(3)\n",
    "P3"
   ]
  },
  {
   "cell_type": "code",
   "execution_count": 84,
   "id": "4b87ca3c-5f06-4ed9-b73f-caeaafb46820",
   "metadata": {},
   "outputs": [
    {
     "data": {
      "text/plain": [
       "6"
      ]
     },
     "execution_count": 84,
     "metadata": {},
     "output_type": "execute_result"
    }
   ],
   "source": [
    "P3.cardinality()"
   ]
  },
  {
   "cell_type": "code",
   "execution_count": 85,
   "id": "dc567f6f-1493-42a1-b4f0-756cfb2dd02d",
   "metadata": {},
   "outputs": [
    {
     "data": {
      "text/plain": [
       "[[1, 2, 3], [1, 3, 2], [2, 1, 3], [2, 3, 1], [3, 1, 2], [3, 2, 1]]"
      ]
     },
     "execution_count": 85,
     "metadata": {},
     "output_type": "execute_result"
    }
   ],
   "source": [
    "list(P3)"
   ]
  },
  {
   "cell_type": "code",
   "execution_count": 86,
   "id": "c89a7137-48e7-4edf-901a-35737ecebcdd",
   "metadata": {},
   "outputs": [
    {
     "data": {
      "text/plain": [
       "[2, 3, 1]"
      ]
     },
     "execution_count": 86,
     "metadata": {},
     "output_type": "execute_result"
    }
   ],
   "source": [
    "P3.random_element()"
   ]
  },
  {
   "cell_type": "code",
   "execution_count": 87,
   "id": "8fa6e9a6-3b2f-433a-a2d9-a72c05f7f857",
   "metadata": {},
   "outputs": [
    {
     "data": {
      "text/plain": [
       "[3, 1, 2]"
      ]
     },
     "execution_count": 87,
     "metadata": {},
     "output_type": "execute_result"
    }
   ],
   "source": [
    " p = Permutation([3,1,2])\n",
    "p"
   ]
  },
  {
   "cell_type": "code",
   "execution_count": 88,
   "id": "55da6162-e771-4a23-9569-ef949ccdf87a",
   "metadata": {},
   "outputs": [
    {
     "data": {
      "text/plain": [
       "Standard permutations"
      ]
     },
     "execution_count": 88,
     "metadata": {},
     "output_type": "execute_result"
    }
   ],
   "source": [
    "p.parent()"
   ]
  },
  {
   "cell_type": "code",
   "execution_count": 89,
   "id": "97f4092b-be3f-473c-bdc0-e479c6b6cdb1",
   "metadata": {},
   "outputs": [
    {
     "data": {
      "text/plain": [
       "True"
      ]
     },
     "execution_count": 89,
     "metadata": {},
     "output_type": "execute_result"
    }
   ],
   "source": [
    "p in P3"
   ]
  },
  {
   "cell_type": "markdown",
   "id": "f2322af8-da10-4163-ab98-1ace952e7a7d",
   "metadata": {},
   "source": [
    "## Some operations on enumerated sets"
   ]
  },
  {
   "cell_type": "code",
   "execution_count": 90,
   "id": "1dc79253-4570-475f-9b62-c464b0a72589",
   "metadata": {},
   "outputs": [],
   "source": [
    "CP3 = cartesian_product([DyckWords(3), Permutations(3)])"
   ]
  },
  {
   "cell_type": "code",
   "execution_count": 91,
   "id": "16296ec8-fe79-4661-893c-06b150610ef0",
   "metadata": {},
   "outputs": [
    {
     "data": {
      "text/plain": [
       "The Cartesian product of (Dyck words with 3 opening parentheses and 3 closing parentheses, Standard permutations of 3)"
      ]
     },
     "execution_count": 91,
     "metadata": {},
     "output_type": "execute_result"
    }
   ],
   "source": [
    "CP3"
   ]
  },
  {
   "cell_type": "code",
   "execution_count": 92,
   "id": "d02b63ea-abe1-48c7-bdf1-b080f2dbba6a",
   "metadata": {},
   "outputs": [
    {
     "data": {
      "text/plain": [
       "[([1, 0, 1, 0, 1, 0], [1, 2, 3]),\n",
       " ([1, 0, 1, 0, 1, 0], [1, 3, 2]),\n",
       " ([1, 0, 1, 0, 1, 0], [2, 1, 3]),\n",
       " ([1, 0, 1, 0, 1, 0], [2, 3, 1]),\n",
       " ([1, 0, 1, 0, 1, 0], [3, 1, 2]),\n",
       " ([1, 0, 1, 0, 1, 0], [3, 2, 1]),\n",
       " ([1, 0, 1, 1, 0, 0], [1, 2, 3]),\n",
       " ([1, 0, 1, 1, 0, 0], [1, 3, 2]),\n",
       " ([1, 0, 1, 1, 0, 0], [2, 1, 3]),\n",
       " ([1, 0, 1, 1, 0, 0], [2, 3, 1]),\n",
       " ([1, 0, 1, 1, 0, 0], [3, 1, 2]),\n",
       " ([1, 0, 1, 1, 0, 0], [3, 2, 1]),\n",
       " ([1, 1, 0, 0, 1, 0], [1, 2, 3]),\n",
       " ([1, 1, 0, 0, 1, 0], [1, 3, 2]),\n",
       " ([1, 1, 0, 0, 1, 0], [2, 1, 3]),\n",
       " ([1, 1, 0, 0, 1, 0], [2, 3, 1]),\n",
       " ([1, 1, 0, 0, 1, 0], [3, 1, 2]),\n",
       " ([1, 1, 0, 0, 1, 0], [3, 2, 1]),\n",
       " ([1, 1, 0, 1, 0, 0], [1, 2, 3]),\n",
       " ([1, 1, 0, 1, 0, 0], [1, 3, 2]),\n",
       " ([1, 1, 0, 1, 0, 0], [2, 1, 3]),\n",
       " ([1, 1, 0, 1, 0, 0], [2, 3, 1]),\n",
       " ([1, 1, 0, 1, 0, 0], [3, 1, 2]),\n",
       " ([1, 1, 0, 1, 0, 0], [3, 2, 1]),\n",
       " ([1, 1, 1, 0, 0, 0], [1, 2, 3]),\n",
       " ([1, 1, 1, 0, 0, 0], [1, 3, 2]),\n",
       " ([1, 1, 1, 0, 0, 0], [2, 1, 3]),\n",
       " ([1, 1, 1, 0, 0, 0], [2, 3, 1]),\n",
       " ([1, 1, 1, 0, 0, 0], [3, 1, 2]),\n",
       " ([1, 1, 1, 0, 0, 0], [3, 2, 1])]"
      ]
     },
     "execution_count": 92,
     "metadata": {},
     "output_type": "execute_result"
    }
   ],
   "source": [
    "list(CP3)"
   ]
  },
  {
   "cell_type": "code",
   "execution_count": 93,
   "id": "0f0f77c7-e084-4474-9069-0f74cbb04e95",
   "metadata": {},
   "outputs": [
    {
     "data": {
      "text/plain": [
       "30"
      ]
     },
     "execution_count": 93,
     "metadata": {},
     "output_type": "execute_result"
    }
   ],
   "source": [
    "CP3.cardinality()"
   ]
  },
  {
   "cell_type": "code",
   "execution_count": 94,
   "id": "b506ff8d-25e7-4a0e-8212-683894139be4",
   "metadata": {},
   "outputs": [
    {
     "data": {
      "text/plain": [
       "([1, 1, 0, 1, 0, 0], [1, 2, 3])"
      ]
     },
     "execution_count": 94,
     "metadata": {},
     "output_type": "execute_result"
    }
   ],
   "source": [
    "CP3.random_element()"
   ]
  },
  {
   "cell_type": "code",
   "execution_count": 95,
   "id": "d69231dd-9877-4671-8694-1b29188f31db",
   "metadata": {},
   "outputs": [],
   "source": [
    "UN3 = DisjointUnionEnumeratedSets([DyckWords(3), Permutations(3)])"
   ]
  },
  {
   "cell_type": "code",
   "execution_count": 96,
   "id": "d96647f3-4a46-4295-850f-705fba719e08",
   "metadata": {},
   "outputs": [
    {
     "data": {
      "text/plain": [
       "Disjoint union of Family (Dyck words with 3 opening parentheses and 3 closing parentheses, Standard permutations of 3)"
      ]
     },
     "execution_count": 96,
     "metadata": {},
     "output_type": "execute_result"
    }
   ],
   "source": [
    "UN3"
   ]
  },
  {
   "cell_type": "code",
   "execution_count": 97,
   "id": "d41f01ff-81d4-476c-9b66-bbce245f8b0d",
   "metadata": {},
   "outputs": [
    {
     "data": {
      "text/plain": [
       "11"
      ]
     },
     "execution_count": 97,
     "metadata": {},
     "output_type": "execute_result"
    }
   ],
   "source": [
    "UN3.cardinality()"
   ]
  },
  {
   "cell_type": "code",
   "execution_count": 98,
   "id": "b8f81687-f89f-43b2-9211-b4633fbbd90e",
   "metadata": {},
   "outputs": [
    {
     "data": {
      "text/plain": [
       "[[1, 0, 1, 0, 1, 0],\n",
       " [1, 0, 1, 1, 0, 0],\n",
       " [1, 1, 0, 0, 1, 0],\n",
       " [1, 1, 0, 1, 0, 0],\n",
       " [1, 1, 1, 0, 0, 0],\n",
       " [1, 2, 3],\n",
       " [1, 3, 2],\n",
       " [2, 1, 3],\n",
       " [2, 3, 1],\n",
       " [3, 1, 2],\n",
       " [3, 2, 1]]"
      ]
     },
     "execution_count": 98,
     "metadata": {},
     "output_type": "execute_result"
    }
   ],
   "source": [
    "list(UN3)"
   ]
  },
  {
   "cell_type": "code",
   "execution_count": 99,
   "id": "5c145fe3-d476-4c12-a858-ee1b9d83c014",
   "metadata": {},
   "outputs": [],
   "source": [
    "DW200 = DyckWords(200)"
   ]
  },
  {
   "cell_type": "code",
   "execution_count": 100,
   "id": "3833014d-3b9d-4a29-94df-6bf8936205e6",
   "metadata": {},
   "outputs": [
    {
     "data": {
      "text/plain": [
       "512201493211017079467541693136328292324432464582475861864920694407578768023144072628540276213813397768975366156750120"
      ]
     },
     "execution_count": 100,
     "metadata": {},
     "output_type": "execute_result"
    }
   ],
   "source": [
    "DW200.cardinality()"
   ]
  },
  {
   "cell_type": "code",
   "execution_count": 101,
   "id": "4c3d7fb2-944a-4704-9596-3d9ecfb8cc22",
   "metadata": {},
   "outputs": [
    {
     "data": {
      "image/svg+xml": [
       "<?xml version=\"1.0\" standalone=\"no\"?><!DOCTYPE svg PUBLIC \"-//W3C//DTD SVG 1.1//EN\" \"http://www.w3.org/Graphics/SVG/1.1/DTD/svg11.dtd\"><svg xmlns=\"http://www.w3.org/2000/svg\" xmlns:xlink=\"http://www.w3.org/1999/xlink\" width=\"500\" viewBox=\"-4.0 -26.0 408.0 30.0 \"><g style=\"stroke-width:2.0;stroke-linejoin:bevel; stroke-linecap:butt; stroke:black; fill:snow\"><polyline points=\"0,0 1,-1 2,-2 3,-1 4,-2 5,-1 6,-2 7,-3 8,-4 9,-5 10,-6 11,-7 12,-6 13,-5 14,-6 15,-7 16,-8 17,-9 18,-10 19,-9 20,-10 21,-11 22,-10 23,-9 24,-8 25,-9 26,-8 27,-9 28,-8 29,-9 30,-10 31,-11 32,-12 33,-11 34,-12 35,-13 36,-14 37,-15 38,-16 39,-15 40,-16 41,-17 42,-16 43,-15 44,-16 45,-17 46,-16 47,-15 48,-16 49,-15 50,-14 51,-13 52,-12 53,-11 54,-10 55,-11 56,-10 57,-11 58,-10 59,-9 60,-8 61,-7 62,-6 63,-7 64,-8 65,-9 66,-10 67,-11 68,-10 69,-11 70,-12 71,-13 72,-12 73,-13 74,-12 75,-13 76,-14 77,-13 78,-14 79,-15 80,-16 81,-15 82,-16 83,-17 84,-16 85,-17 86,-16 87,-17 88,-16 89,-15 90,-16 91,-17 92,-18 93,-17 94,-18 95,-19 96,-20 97,-21 98,-22 99,-21 100,-20 101,-19 102,-20 103,-19 104,-20 105,-19 106,-18 107,-17 108,-18 109,-19 110,-18 111,-19 112,-18 113,-19 114,-18 115,-17 116,-16 117,-15 118,-16 119,-15 120,-16 121,-17 122,-16 123,-15 124,-16 125,-15 126,-14 127,-13 128,-12 129,-11 130,-10 131,-9 132,-10 133,-11 134,-12 135,-11 136,-12 137,-13 138,-12 139,-13 140,-14 141,-15 142,-14 143,-13 144,-12 145,-13 146,-12 147,-11 148,-10 149,-11 150,-10 151,-11 152,-12 153,-13 154,-14 155,-15 156,-14 157,-13 158,-12 159,-11 160,-12 161,-11 162,-10 163,-11 164,-10 165,-11 166,-10 167,-9 168,-8 169,-7 170,-8 171,-7 172,-6 173,-5 174,-6 175,-5 176,-6 177,-7 178,-8 179,-7 180,-8 181,-9 182,-10 183,-9 184,-8 185,-7 186,-6 187,-5 188,-4 189,-3 190,-4 191,-5 192,-6 193,-7 194,-8 195,-9 196,-10 197,-9 198,-10 199,-9 200,-10 201,-9 202,-10 203,-11 204,-10 205,-11 206,-10 207,-11 208,-10 209,-9 210,-8 211,-7 212,-8 213,-9 214,-8 215,-7 216,-8 217,-9 218,-8 219,-9 220,-8 221,-7 222,-6 223,-5 224,-4 225,-3 226,-4 227,-5 228,-6 229,-5 230,-6 231,-5 232,-6 233,-7 234,-8 235,-7 236,-6 237,-7 238,-8 239,-9 240,-10 241,-11 242,-10 243,-9 244,-10 245,-11 246,-12 247,-13 248,-12 249,-13 250,-12 251,-11 252,-12 253,-13 254,-12 255,-11 256,-12 257,-11 258,-10 259,-9 260,-8 261,-7 262,-6 263,-5 264,-6 265,-5 266,-6 267,-5 268,-6 269,-5 270,-6 271,-5 272,-4 273,-5 274,-6 275,-7 276,-8 277,-9 278,-10 279,-9 280,-8 281,-7 282,-8 283,-7 284,-8 285,-7 286,-8 287,-9 288,-8 289,-9 290,-10 291,-9 292,-10 293,-9 294,-8 295,-9 296,-8 297,-7 298,-8 299,-7 300,-8 301,-7 302,-6 303,-5 304,-6 305,-7 306,-8 307,-7 308,-8 309,-9 310,-8 311,-9 312,-10 313,-9 314,-8 315,-7 316,-6 317,-7 318,-6 319,-7 320,-6 321,-7 322,-6 323,-5 324,-6 325,-7 326,-6 327,-7 328,-8 329,-9 330,-8 331,-7 332,-6 333,-7 334,-8 335,-7 336,-6 337,-5 338,-4 339,-3 340,-2 341,-1 342,-2 343,-1 344,-2 345,-3 346,-4 347,-3 348,-2 349,-3 350,-4 351,-5 352,-4 353,-3 354,-4 355,-5 356,-6 357,-5 358,-4 359,-3 360,-2 361,-3 362,-4 363,-3 364,-4 365,-5 366,-4 367,-3 368,-2 369,-3 370,-4 371,-5 372,-6 373,-5 374,-6 375,-5 376,-6 377,-7 378,-8 379,-7 380,-6 381,-5 382,-4 383,-3 384,-4 385,-3 386,-2 387,-1 388,-2 389,-3 390,-2 391,-3 392,-2 393,-1 394,-2 395,-1 396,-2 397,-3 398,-2 399,-1 400,0 \"/> </g><g style=\"stroke-width:1.0;stroke-linejoin:bevel;stroke-dasharray:0.25; stroke-linecap:butt; stroke:gray; fill:none\"><line x1=\"1\" y1=\"-1\" x2=\"3\" y2=\"-1\"/><line x1=\"3\" y1=\"-1\" x2=\"5\" y2=\"-1\"/><line x1=\"10\" y1=\"-6\" x2=\"12\" y2=\"-6\"/><line x1=\"9\" y1=\"-5\" x2=\"13\" y2=\"-5\"/><line x1=\"17\" y1=\"-9\" x2=\"19\" y2=\"-9\"/><line x1=\"20\" y1=\"-10\" x2=\"22\" y2=\"-10\"/><line x1=\"19\" y1=\"-9\" x2=\"23\" y2=\"-9\"/><line x1=\"16\" y1=\"-8\" x2=\"24\" y2=\"-8\"/><line x1=\"24\" y1=\"-8\" x2=\"26\" y2=\"-8\"/><line x1=\"26\" y1=\"-8\" x2=\"28\" y2=\"-8\"/><line x1=\"31\" y1=\"-11\" x2=\"33\" y2=\"-11\"/><line x1=\"37\" y1=\"-15\" x2=\"39\" y2=\"-15\"/><line x1=\"40\" y1=\"-16\" x2=\"42\" y2=\"-16\"/><line x1=\"39\" y1=\"-15\" x2=\"43\" y2=\"-15\"/><line x1=\"44\" y1=\"-16\" x2=\"46\" y2=\"-16\"/><line x1=\"43\" y1=\"-15\" x2=\"47\" y2=\"-15\"/><line x1=\"47\" y1=\"-15\" x2=\"49\" y2=\"-15\"/><line x1=\"36\" y1=\"-14\" x2=\"50\" y2=\"-14\"/><line x1=\"35\" y1=\"-13\" x2=\"51\" y2=\"-13\"/><line x1=\"34\" y1=\"-12\" x2=\"52\" y2=\"-12\"/><line x1=\"33\" y1=\"-11\" x2=\"53\" y2=\"-11\"/><line x1=\"30\" y1=\"-10\" x2=\"54\" y2=\"-10\"/><line x1=\"54\" y1=\"-10\" x2=\"56\" y2=\"-10\"/><line x1=\"56\" y1=\"-10\" x2=\"58\" y2=\"-10\"/><line x1=\"29\" y1=\"-9\" x2=\"59\" y2=\"-9\"/><line x1=\"28\" y1=\"-8\" x2=\"60\" y2=\"-8\"/><line x1=\"15\" y1=\"-7\" x2=\"61\" y2=\"-7\"/><line x1=\"14\" y1=\"-6\" x2=\"62\" y2=\"-6\"/><line x1=\"66\" y1=\"-10\" x2=\"68\" y2=\"-10\"/><line x1=\"70\" y1=\"-12\" x2=\"72\" y2=\"-12\"/><line x1=\"72\" y1=\"-12\" x2=\"74\" y2=\"-12\"/><line x1=\"75\" y1=\"-13\" x2=\"77\" y2=\"-13\"/><line x1=\"79\" y1=\"-15\" x2=\"81\" y2=\"-15\"/><line x1=\"82\" y1=\"-16\" x2=\"84\" y2=\"-16\"/><line x1=\"84\" y1=\"-16\" x2=\"86\" y2=\"-16\"/><line x1=\"86\" y1=\"-16\" x2=\"88\" y2=\"-16\"/><line x1=\"81\" y1=\"-15\" x2=\"89\" y2=\"-15\"/><line x1=\"91\" y1=\"-17\" x2=\"93\" y2=\"-17\"/><line x1=\"97\" y1=\"-21\" x2=\"99\" y2=\"-21\"/><line x1=\"96\" y1=\"-20\" x2=\"100\" y2=\"-20\"/><line x1=\"95\" y1=\"-19\" x2=\"101\" y2=\"-19\"/><line x1=\"101\" y1=\"-19\" x2=\"103\" y2=\"-19\"/><line x1=\"103\" y1=\"-19\" x2=\"105\" y2=\"-19\"/><line x1=\"94\" y1=\"-18\" x2=\"106\" y2=\"-18\"/><line x1=\"93\" y1=\"-17\" x2=\"107\" y2=\"-17\"/><line x1=\"108\" y1=\"-18\" x2=\"110\" y2=\"-18\"/><line x1=\"110\" y1=\"-18\" x2=\"112\" y2=\"-18\"/><line x1=\"112\" y1=\"-18\" x2=\"114\" y2=\"-18\"/><line x1=\"107\" y1=\"-17\" x2=\"115\" y2=\"-17\"/><line x1=\"90\" y1=\"-16\" x2=\"116\" y2=\"-16\"/><line x1=\"89\" y1=\"-15\" x2=\"117\" y2=\"-15\"/><line x1=\"117\" y1=\"-15\" x2=\"119\" y2=\"-15\"/><line x1=\"120\" y1=\"-16\" x2=\"122\" y2=\"-16\"/><line x1=\"119\" y1=\"-15\" x2=\"123\" y2=\"-15\"/><line x1=\"123\" y1=\"-15\" x2=\"125\" y2=\"-15\"/><line x1=\"78\" y1=\"-14\" x2=\"126\" y2=\"-14\"/><line x1=\"77\" y1=\"-13\" x2=\"127\" y2=\"-13\"/><line x1=\"74\" y1=\"-12\" x2=\"128\" y2=\"-12\"/><line x1=\"69\" y1=\"-11\" x2=\"129\" y2=\"-11\"/><line x1=\"68\" y1=\"-10\" x2=\"130\" y2=\"-10\"/><line x1=\"65\" y1=\"-9\" x2=\"131\" y2=\"-9\"/><line x1=\"133\" y1=\"-11\" x2=\"135\" y2=\"-11\"/><line x1=\"136\" y1=\"-12\" x2=\"138\" y2=\"-12\"/><line x1=\"140\" y1=\"-14\" x2=\"142\" y2=\"-14\"/><line x1=\"139\" y1=\"-13\" x2=\"143\" y2=\"-13\"/><line x1=\"138\" y1=\"-12\" x2=\"144\" y2=\"-12\"/><line x1=\"144\" y1=\"-12\" x2=\"146\" y2=\"-12\"/><line x1=\"135\" y1=\"-11\" x2=\"147\" y2=\"-11\"/><line x1=\"132\" y1=\"-10\" x2=\"148\" y2=\"-10\"/><line x1=\"148\" y1=\"-10\" x2=\"150\" y2=\"-10\"/><line x1=\"154\" y1=\"-14\" x2=\"156\" y2=\"-14\"/><line x1=\"153\" y1=\"-13\" x2=\"157\" y2=\"-13\"/><line x1=\"152\" y1=\"-12\" x2=\"158\" y2=\"-12\"/><line x1=\"151\" y1=\"-11\" x2=\"159\" y2=\"-11\"/><line x1=\"159\" y1=\"-11\" x2=\"161\" y2=\"-11\"/><line x1=\"150\" y1=\"-10\" x2=\"162\" y2=\"-10\"/><line x1=\"162\" y1=\"-10\" x2=\"164\" y2=\"-10\"/><line x1=\"164\" y1=\"-10\" x2=\"166\" y2=\"-10\"/><line x1=\"131\" y1=\"-9\" x2=\"167\" y2=\"-9\"/><line x1=\"64\" y1=\"-8\" x2=\"168\" y2=\"-8\"/><line x1=\"63\" y1=\"-7\" x2=\"169\" y2=\"-7\"/><line x1=\"169\" y1=\"-7\" x2=\"171\" y2=\"-7\"/><line x1=\"62\" y1=\"-6\" x2=\"172\" y2=\"-6\"/><line x1=\"13\" y1=\"-5\" x2=\"173\" y2=\"-5\"/><line x1=\"173\" y1=\"-5\" x2=\"175\" y2=\"-5\"/><line x1=\"177\" y1=\"-7\" x2=\"179\" y2=\"-7\"/><line x1=\"181\" y1=\"-9\" x2=\"183\" y2=\"-9\"/><line x1=\"180\" y1=\"-8\" x2=\"184\" y2=\"-8\"/><line x1=\"179\" y1=\"-7\" x2=\"185\" y2=\"-7\"/><line x1=\"176\" y1=\"-6\" x2=\"186\" y2=\"-6\"/><line x1=\"175\" y1=\"-5\" x2=\"187\" y2=\"-5\"/><line x1=\"8\" y1=\"-4\" x2=\"188\" y2=\"-4\"/><line x1=\"7\" y1=\"-3\" x2=\"189\" y2=\"-3\"/><line x1=\"195\" y1=\"-9\" x2=\"197\" y2=\"-9\"/><line x1=\"197\" y1=\"-9\" x2=\"199\" y2=\"-9\"/><line x1=\"199\" y1=\"-9\" x2=\"201\" y2=\"-9\"/><line x1=\"202\" y1=\"-10\" x2=\"204\" y2=\"-10\"/><line x1=\"204\" y1=\"-10\" x2=\"206\" y2=\"-10\"/><line x1=\"206\" y1=\"-10\" x2=\"208\" y2=\"-10\"/><line x1=\"201\" y1=\"-9\" x2=\"209\" y2=\"-9\"/><line x1=\"194\" y1=\"-8\" x2=\"210\" y2=\"-8\"/><line x1=\"193\" y1=\"-7\" x2=\"211\" y2=\"-7\"/><line x1=\"212\" y1=\"-8\" x2=\"214\" y2=\"-8\"/><line x1=\"211\" y1=\"-7\" x2=\"215\" y2=\"-7\"/><line x1=\"216\" y1=\"-8\" x2=\"218\" y2=\"-8\"/><line x1=\"218\" y1=\"-8\" x2=\"220\" y2=\"-8\"/><line x1=\"215\" y1=\"-7\" x2=\"221\" y2=\"-7\"/><line x1=\"192\" y1=\"-6\" x2=\"222\" y2=\"-6\"/><line x1=\"191\" y1=\"-5\" x2=\"223\" y2=\"-5\"/><line x1=\"190\" y1=\"-4\" x2=\"224\" y2=\"-4\"/><line x1=\"189\" y1=\"-3\" x2=\"225\" y2=\"-3\"/><line x1=\"227\" y1=\"-5\" x2=\"229\" y2=\"-5\"/><line x1=\"229\" y1=\"-5\" x2=\"231\" y2=\"-5\"/><line x1=\"233\" y1=\"-7\" x2=\"235\" y2=\"-7\"/><line x1=\"232\" y1=\"-6\" x2=\"236\" y2=\"-6\"/><line x1=\"240\" y1=\"-10\" x2=\"242\" y2=\"-10\"/><line x1=\"239\" y1=\"-9\" x2=\"243\" y2=\"-9\"/><line x1=\"246\" y1=\"-12\" x2=\"248\" y2=\"-12\"/><line x1=\"248\" y1=\"-12\" x2=\"250\" y2=\"-12\"/><line x1=\"245\" y1=\"-11\" x2=\"251\" y2=\"-11\"/><line x1=\"252\" y1=\"-12\" x2=\"254\" y2=\"-12\"/><line x1=\"251\" y1=\"-11\" x2=\"255\" y2=\"-11\"/><line x1=\"255\" y1=\"-11\" x2=\"257\" y2=\"-11\"/><line x1=\"244\" y1=\"-10\" x2=\"258\" y2=\"-10\"/><line x1=\"243\" y1=\"-9\" x2=\"259\" y2=\"-9\"/><line x1=\"238\" y1=\"-8\" x2=\"260\" y2=\"-8\"/><line x1=\"237\" y1=\"-7\" x2=\"261\" y2=\"-7\"/><line x1=\"236\" y1=\"-6\" x2=\"262\" y2=\"-6\"/><line x1=\"231\" y1=\"-5\" x2=\"263\" y2=\"-5\"/><line x1=\"263\" y1=\"-5\" x2=\"265\" y2=\"-5\"/><line x1=\"265\" y1=\"-5\" x2=\"267\" y2=\"-5\"/><line x1=\"267\" y1=\"-5\" x2=\"269\" y2=\"-5\"/><line x1=\"269\" y1=\"-5\" x2=\"271\" y2=\"-5\"/><line x1=\"226\" y1=\"-4\" x2=\"272\" y2=\"-4\"/><line x1=\"277\" y1=\"-9\" x2=\"279\" y2=\"-9\"/><line x1=\"276\" y1=\"-8\" x2=\"280\" y2=\"-8\"/><line x1=\"275\" y1=\"-7\" x2=\"281\" y2=\"-7\"/><line x1=\"281\" y1=\"-7\" x2=\"283\" y2=\"-7\"/><line x1=\"283\" y1=\"-7\" x2=\"285\" y2=\"-7\"/><line x1=\"286\" y1=\"-8\" x2=\"288\" y2=\"-8\"/><line x1=\"289\" y1=\"-9\" x2=\"291\" y2=\"-9\"/><line x1=\"291\" y1=\"-9\" x2=\"293\" y2=\"-9\"/><line x1=\"288\" y1=\"-8\" x2=\"294\" y2=\"-8\"/><line x1=\"294\" y1=\"-8\" x2=\"296\" y2=\"-8\"/><line x1=\"285\" y1=\"-7\" x2=\"297\" y2=\"-7\"/><line x1=\"297\" y1=\"-7\" x2=\"299\" y2=\"-7\"/><line x1=\"299\" y1=\"-7\" x2=\"301\" y2=\"-7\"/><line x1=\"274\" y1=\"-6\" x2=\"302\" y2=\"-6\"/><line x1=\"273\" y1=\"-5\" x2=\"303\" y2=\"-5\"/><line x1=\"305\" y1=\"-7\" x2=\"307\" y2=\"-7\"/><line x1=\"308\" y1=\"-8\" x2=\"310\" y2=\"-8\"/><line x1=\"311\" y1=\"-9\" x2=\"313\" y2=\"-9\"/><line x1=\"310\" y1=\"-8\" x2=\"314\" y2=\"-8\"/><line x1=\"307\" y1=\"-7\" x2=\"315\" y2=\"-7\"/><line x1=\"304\" y1=\"-6\" x2=\"316\" y2=\"-6\"/><line x1=\"316\" y1=\"-6\" x2=\"318\" y2=\"-6\"/><line x1=\"318\" y1=\"-6\" x2=\"320\" y2=\"-6\"/><line x1=\"320\" y1=\"-6\" x2=\"322\" y2=\"-6\"/><line x1=\"303\" y1=\"-5\" x2=\"323\" y2=\"-5\"/><line x1=\"324\" y1=\"-6\" x2=\"326\" y2=\"-6\"/><line x1=\"328\" y1=\"-8\" x2=\"330\" y2=\"-8\"/><line x1=\"327\" y1=\"-7\" x2=\"331\" y2=\"-7\"/><line x1=\"326\" y1=\"-6\" x2=\"332\" y2=\"-6\"/><line x1=\"333\" y1=\"-7\" x2=\"335\" y2=\"-7\"/><line x1=\"332\" y1=\"-6\" x2=\"336\" y2=\"-6\"/><line x1=\"323\" y1=\"-5\" x2=\"337\" y2=\"-5\"/><line x1=\"272\" y1=\"-4\" x2=\"338\" y2=\"-4\"/><line x1=\"225\" y1=\"-3\" x2=\"339\" y2=\"-3\"/><line x1=\"6\" y1=\"-2\" x2=\"340\" y2=\"-2\"/><line x1=\"5\" y1=\"-1\" x2=\"341\" y2=\"-1\"/><line x1=\"341\" y1=\"-1\" x2=\"343\" y2=\"-1\"/><line x1=\"345\" y1=\"-3\" x2=\"347\" y2=\"-3\"/><line x1=\"344\" y1=\"-2\" x2=\"348\" y2=\"-2\"/><line x1=\"350\" y1=\"-4\" x2=\"352\" y2=\"-4\"/><line x1=\"349\" y1=\"-3\" x2=\"353\" y2=\"-3\"/><line x1=\"355\" y1=\"-5\" x2=\"357\" y2=\"-5\"/><line x1=\"354\" y1=\"-4\" x2=\"358\" y2=\"-4\"/><line x1=\"353\" y1=\"-3\" x2=\"359\" y2=\"-3\"/><line x1=\"348\" y1=\"-2\" x2=\"360\" y2=\"-2\"/><line x1=\"361\" y1=\"-3\" x2=\"363\" y2=\"-3\"/><line x1=\"364\" y1=\"-4\" x2=\"366\" y2=\"-4\"/><line x1=\"363\" y1=\"-3\" x2=\"367\" y2=\"-3\"/><line x1=\"360\" y1=\"-2\" x2=\"368\" y2=\"-2\"/><line x1=\"371\" y1=\"-5\" x2=\"373\" y2=\"-5\"/><line x1=\"373\" y1=\"-5\" x2=\"375\" y2=\"-5\"/><line x1=\"377\" y1=\"-7\" x2=\"379\" y2=\"-7\"/><line x1=\"376\" y1=\"-6\" x2=\"380\" y2=\"-6\"/><line x1=\"375\" y1=\"-5\" x2=\"381\" y2=\"-5\"/><line x1=\"370\" y1=\"-4\" x2=\"382\" y2=\"-4\"/><line x1=\"369\" y1=\"-3\" x2=\"383\" y2=\"-3\"/><line x1=\"383\" y1=\"-3\" x2=\"385\" y2=\"-3\"/><line x1=\"368\" y1=\"-2\" x2=\"386\" y2=\"-2\"/><line x1=\"343\" y1=\"-1\" x2=\"387\" y2=\"-1\"/><line x1=\"388\" y1=\"-2\" x2=\"390\" y2=\"-2\"/><line x1=\"390\" y1=\"-2\" x2=\"392\" y2=\"-2\"/><line x1=\"387\" y1=\"-1\" x2=\"393\" y2=\"-1\"/><line x1=\"393\" y1=\"-1\" x2=\"395\" y2=\"-1\"/><line x1=\"396\" y1=\"-2\" x2=\"398\" y2=\"-2\"/><line x1=\"395\" y1=\"-1\" x2=\"399\" y2=\"-1\"/><line x1=\"0\" y1=\"0\" x2=\"400\" y2=\"0\"/></g></svg>"
      ],
      "text/plain": [
       "[1, 1, 0, 1, 0, 1, 1, 1, 1, 1, 1, 0, 0, 1, 1, 1, 1, 1, 0, 1, 1, 0, 0, 0, 1, 0, 1, 0, 1, 1, 1, 1, 0, 1, 1, 1, 1, 1, 0, 1, 1, 0, 0, 1, 1, 0, 0, 1, 0, 0, 0, 0, 0, 0, 1, 0, 1, 0, 0, 0, 0, 0, 1, 1, 1, 1, 1, 0, 1, 1, 1, 0, 1, 0, 1, 1, 0, 1, 1, 1, 0, 1, 1, 0, 1, 0, 1, 0, 0, 1, 1, 1, 0, 1, 1, 1, 1, 1, 0, 0, 0, 1, 0, 1, 0, 0, 0, 1, 1, 0, 1, 0, 1, 0, 0, 0, 0, 1, 0, 1, 1, 0, 0, 1, 0, 0, 0, 0, 0, 0, 0, 1, 1, 1, 0, 1, 1, 0, 1, 1, 1, 0, 0, 0, 1, 0, 0, 0, 1, 0, 1, 1, 1, 1, 1, 0, 0, 0, 0, 1, 0, 0, 1, 0, 1, 0, 0, 0, 0, 1, 0, 0, 0, 1, 0, 1, 1, 1, 0, 1, 1, 1, 0, 0, 0, 0, 0, 0, 0, 1, 1, 1, 1, 1, 1, 1, 0, 1, 0, 1, 0, 1, 1, 0, 1, 0, 1, 0, 0, 0, 0, 1, 1, 0, 0, 1, 1, 0, 1, 0, 0, 0, 0, 0, 0, 1, 1, 1, 0, 1, 0, 1, 1, 1, 0, 0, 1, 1, 1, 1, 1, 0, 0, 1, 1, 1, 1, 0, 1, 0, 0, 1, 1, 0, 0, 1, 0, 0, 0, 0, 0, 0, 0, 1, 0, 1, 0, 1, 0, 1, 0, 0, 1, 1, 1, 1, 1, 1, 0, 0, 0, 1, 0, 1, 0, 1, 1, 0, 1, 1, 0, 1, 0, 0, 1, 0, 0, 1, 0, 1, 0, 0, 0, 1, 1, 1, 0, 1, 1, 0, 1, 1, 0, 0, 0, 0, 1, 0, 1, 0, 1, 0, 0, 1, 1, 0, 1, 1, 1, 0, 0, 0, 1, 1, 0, 0, 0, 0, 0, 0, 0, 1, 0, 1, 1, 1, 0, 0, 1, 1, 1, 0, 0, 1, 1, 1, 0, 0, 0, 0, 1, 1, 0, 1, 1, 0, 0, 0, 1, 1, 1, 1, 0, 1, 0, 1, 1, 1, 0, 0, 0, 0, 0, 1, 0, 0, 0, 1, 1, 0, 1, 0, 0, 1, 0, 1, 1, 0, 0, 0]"
      ]
     },
     "execution_count": 101,
     "metadata": {},
     "output_type": "execute_result"
    }
   ],
   "source": [
    "DW200.random_element()"
   ]
  },
  {
   "cell_type": "code",
   "execution_count": null,
   "id": "9f0c9094-c7a8-42b8-8659-98e13b55546e",
   "metadata": {},
   "outputs": [],
   "source": []
  }
 ],
 "metadata": {
  "kernelspec": {
   "display_name": "SageMath 10.2",
   "language": "sage",
   "name": "sagemath"
  },
  "language_info": {
   "codemirror_mode": {
    "name": "ipython",
    "version": 3
   },
   "file_extension": ".py",
   "mimetype": "text/x-python",
   "name": "python",
   "nbconvert_exporter": "python",
   "pygments_lexer": "ipython3",
   "version": "3.11.8"
  }
 },
 "nbformat": 4,
 "nbformat_minor": 5
}
